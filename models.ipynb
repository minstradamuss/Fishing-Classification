{
  "nbformat": 4,
  "nbformat_minor": 0,
  "metadata": {
    "colab": {
      "provenance": []
    },
    "kernelspec": {
      "name": "python3",
      "display_name": "Python 3"
    },
    "language_info": {
      "name": "python"
    }
  },
  "cells": [
    {
      "cell_type": "code",
      "source": [
        "!unzip data.zip\n",
        "%ls"
      ],
      "metadata": {
        "colab": {
          "base_uri": "https://localhost:8080/"
        },
        "id": "taM7grXVSh1D",
        "outputId": "c3033fe9-459e-4c06-bdde-14613e78f71d",
        "collapsed": true
      },
      "execution_count": 2,
      "outputs": [
        {
          "output_type": "stream",
          "name": "stdout",
          "text": [
            "Archive:  data.zip\n",
            "   creating: data/\n",
            "   creating: data/normal/\n",
            "  inflating: data/normal/1.jpg       \n",
            "  inflating: data/normal/10.jpg      \n",
            "  inflating: data/normal/100.jpg     \n",
            "  inflating: data/normal/11.jpg      \n",
            "  inflating: data/normal/12.jpg      \n",
            "  inflating: data/normal/13.jpg      \n",
            "  inflating: data/normal/14.jpg      \n",
            "  inflating: data/normal/15.jpg      \n",
            "  inflating: data/normal/16.jpg      \n",
            "  inflating: data/normal/17.jpg      \n",
            "  inflating: data/normal/18.jpg      \n",
            "  inflating: data/normal/19.jpg      \n",
            "  inflating: data/normal/2.jpg       \n",
            "  inflating: data/normal/20.jpg      \n",
            "  inflating: data/normal/21.jpg      \n",
            "  inflating: data/normal/22.jpg      \n",
            "  inflating: data/normal/23.jpg      \n",
            "  inflating: data/normal/24.jpg      \n",
            "  inflating: data/normal/25.jpg      \n",
            "  inflating: data/normal/26.jpg      \n",
            "  inflating: data/normal/27.jpg      \n",
            "  inflating: data/normal/28.jpg      \n",
            "  inflating: data/normal/29.jpg      \n",
            "  inflating: data/normal/3.jpg       \n",
            "  inflating: data/normal/34.jpg      \n",
            "  inflating: data/normal/35.jpg      \n",
            "  inflating: data/normal/36.jpg      \n",
            "  inflating: data/normal/37.jpg      \n",
            "  inflating: data/normal/38.jpg      \n",
            "  inflating: data/normal/39.jpg      \n",
            "  inflating: data/normal/4.jpg       \n",
            "  inflating: data/normal/40.jpg      \n",
            "  inflating: data/normal/41.jpg      \n",
            "  inflating: data/normal/42.jpg      \n",
            "  inflating: data/normal/43.jpg      \n",
            "  inflating: data/normal/44.jpg      \n",
            "  inflating: data/normal/45.jpg      \n",
            "  inflating: data/normal/46.jpg      \n",
            "  inflating: data/normal/47.jpg      \n",
            "  inflating: data/normal/48.jpg      \n",
            "  inflating: data/normal/49.jpg      \n",
            "  inflating: data/normal/5.jpg       \n",
            "  inflating: data/normal/50.jpg      \n",
            "  inflating: data/normal/51.jpg      \n",
            "  inflating: data/normal/52.jpg      \n",
            "  inflating: data/normal/53.jpg      \n",
            "  inflating: data/normal/54.jpg      \n",
            "  inflating: data/normal/55.jpg      \n",
            "  inflating: data/normal/56.jpg      \n",
            "  inflating: data/normal/57.jpg      \n",
            "  inflating: data/normal/58.jpg      \n",
            "  inflating: data/normal/59.jpg      \n",
            "  inflating: data/normal/6.jpg       \n",
            "  inflating: data/normal/60.jpg      \n",
            "  inflating: data/normal/61.jpg      \n",
            "  inflating: data/normal/62.jpg      \n",
            "  inflating: data/normal/63.jpg      \n",
            "  inflating: data/normal/64.jpg      \n",
            "  inflating: data/normal/65.jpg      \n",
            "  inflating: data/normal/66.jpg      \n",
            "  inflating: data/normal/67.jpg      \n",
            "  inflating: data/normal/68.jpg      \n",
            "  inflating: data/normal/69.jpg      \n",
            "  inflating: data/normal/7.jpg       \n",
            "  inflating: data/normal/70.jpg      \n",
            "  inflating: data/normal/71.jpg      \n",
            "  inflating: data/normal/72.jpg      \n",
            "  inflating: data/normal/73.jpg      \n",
            "  inflating: data/normal/74.jpg      \n",
            "  inflating: data/normal/75.jpg      \n",
            "  inflating: data/normal/76.jpg      \n",
            "  inflating: data/normal/77.jpg      \n",
            "  inflating: data/normal/78.jpg      \n",
            "  inflating: data/normal/79.jpg      \n",
            "  inflating: data/normal/8.jpg       \n",
            "  inflating: data/normal/80.jpg      \n",
            "  inflating: data/normal/81.jpg      \n",
            "  inflating: data/normal/82.jpg      \n",
            "  inflating: data/normal/83.jpg      \n",
            "  inflating: data/normal/84.jpg      \n",
            "  inflating: data/normal/85.jpg      \n",
            "  inflating: data/normal/86.jpg      \n",
            "  inflating: data/normal/87.jpg      \n",
            "  inflating: data/normal/88.jpg      \n",
            "  inflating: data/normal/89.jpg      \n",
            "  inflating: data/normal/9.jpg       \n",
            "  inflating: data/normal/90.jpg      \n",
            "  inflating: data/normal/91.jpg      \n",
            "  inflating: data/normal/92.jpg      \n",
            "  inflating: data/normal/93.jpg      \n",
            "  inflating: data/normal/94.jpg      \n",
            "  inflating: data/normal/95.jpg      \n",
            "  inflating: data/normal/96.jpg      \n",
            "  inflating: data/normal/97.jpg      \n",
            "  inflating: data/normal/98.jpg      \n",
            "  inflating: data/normal/99.jpg      \n",
            "   creating: data/phishing/\n",
            "  inflating: data/phishing/000081.jpg  \n",
            "  inflating: data/phishing/000090.jpg  \n",
            "  inflating: data/phishing/000093.jpg  \n",
            "  inflating: data/phishing/000121.jpg  \n",
            "  inflating: data/phishing/000126.jpg  \n",
            "  inflating: data/phishing/000127.jpg  \n",
            "  inflating: data/phishing/1.jpg     \n",
            "  inflating: data/phishing/10.jpg    \n",
            "  inflating: data/phishing/100.jpg   \n",
            "  inflating: data/phishing/101.jpg   \n",
            "  inflating: data/phishing/102.jpg   \n",
            "  inflating: data/phishing/103.jpg   \n",
            "  inflating: data/phishing/104.jpg   \n",
            "  inflating: data/phishing/105.jpg   \n",
            "  inflating: data/phishing/106.jpg   \n",
            " extracting: data/phishing/107.jpg   \n",
            "  inflating: data/phishing/108.jpg   \n",
            "  inflating: data/phishing/109.jpg   \n",
            "  inflating: data/phishing/11.jpg    \n",
            "  inflating: data/phishing/110.jpg   \n",
            "  inflating: data/phishing/111.jpg   \n",
            "  inflating: data/phishing/112.jpg   \n",
            "  inflating: data/phishing/113.jpg   \n",
            "  inflating: data/phishing/114.jpg   \n",
            "  inflating: data/phishing/115.jpg   \n",
            "  inflating: data/phishing/116.jpg   \n",
            "  inflating: data/phishing/117.jpg   \n",
            "  inflating: data/phishing/118.jpg   \n",
            "  inflating: data/phishing/119.jpg   \n",
            "  inflating: data/phishing/12.jpg    \n",
            "  inflating: data/phishing/120.jpg   \n",
            "  inflating: data/phishing/121.jpg   \n",
            "  inflating: data/phishing/122.jpg   \n",
            "  inflating: data/phishing/123.jpg   \n",
            " extracting: data/phishing/124.jpg   \n",
            "  inflating: data/phishing/125.jpg   \n",
            "  inflating: data/phishing/126.jpg   \n",
            "  inflating: data/phishing/127.jpg   \n",
            "  inflating: data/phishing/128.jpg   \n",
            "  inflating: data/phishing/129.jpg   \n",
            "  inflating: data/phishing/13.jpg    \n",
            "  inflating: data/phishing/130.jpg   \n",
            "  inflating: data/phishing/131.jpg   \n",
            " extracting: data/phishing/132.jpg   \n",
            "  inflating: data/phishing/133.jpg   \n",
            "  inflating: data/phishing/134.jpg   \n",
            "  inflating: data/phishing/135.jpg   \n",
            "  inflating: data/phishing/14.jpg    \n",
            "  inflating: data/phishing/15.jpg    \n",
            "  inflating: data/phishing/16.jpg    \n",
            "  inflating: data/phishing/17.jpg    \n",
            "  inflating: data/phishing/18.jpg    \n",
            "  inflating: data/phishing/19.jpg    \n",
            "  inflating: data/phishing/2.jpg     \n",
            "  inflating: data/phishing/20.jpg    \n",
            "  inflating: data/phishing/21.jpg    \n",
            "  inflating: data/phishing/22.jpg    \n",
            "  inflating: data/phishing/23.jpg    \n",
            "  inflating: data/phishing/24.jpg    \n",
            "  inflating: data/phishing/25.jpg    \n",
            "  inflating: data/phishing/26.jpg    \n",
            "  inflating: data/phishing/27.jpg    \n",
            "  inflating: data/phishing/28.jpg    \n",
            "  inflating: data/phishing/29.jpg    \n",
            "  inflating: data/phishing/3.jpg     \n",
            "  inflating: data/phishing/30.jpg    \n",
            "  inflating: data/phishing/31.jpg    \n",
            "  inflating: data/phishing/32.jpg    \n",
            "  inflating: data/phishing/33.jpg    \n",
            "  inflating: data/phishing/34.jpg    \n",
            "  inflating: data/phishing/35.jpg    \n",
            "  inflating: data/phishing/36.jpg    \n",
            "  inflating: data/phishing/37.jpg    \n",
            "  inflating: data/phishing/38.jpg    \n",
            "  inflating: data/phishing/39.jpg    \n",
            "  inflating: data/phishing/4.jpg     \n",
            "  inflating: data/phishing/40.jpg    \n",
            "  inflating: data/phishing/41.jpg    \n",
            "  inflating: data/phishing/42.jpg    \n",
            "  inflating: data/phishing/43.jpg    \n",
            "  inflating: data/phishing/44.jpg    \n",
            "  inflating: data/phishing/45.jpg    \n",
            "  inflating: data/phishing/46.jpg    \n",
            "  inflating: data/phishing/47.jpg    \n",
            "  inflating: data/phishing/48.jpg    \n",
            "  inflating: data/phishing/49.jpg    \n",
            "  inflating: data/phishing/5.jpg     \n",
            "  inflating: data/phishing/50.jpg    \n",
            "  inflating: data/phishing/51.jpg    \n",
            "  inflating: data/phishing/52.jpg    \n",
            "  inflating: data/phishing/53.jpg    \n",
            "  inflating: data/phishing/54.jpg    \n",
            "  inflating: data/phishing/55.jpg    \n",
            "  inflating: data/phishing/56.jpg    \n",
            "  inflating: data/phishing/57.jpg    \n",
            "  inflating: data/phishing/58.jpg    \n",
            "  inflating: data/phishing/59.jpg    \n",
            "  inflating: data/phishing/6.jpg     \n",
            "  inflating: data/phishing/60.jpg    \n",
            "  inflating: data/phishing/61.jpg    \n",
            "  inflating: data/phishing/62.jpg    \n",
            "  inflating: data/phishing/63.jpg    \n",
            "  inflating: data/phishing/64.jpg    \n",
            "  inflating: data/phishing/65.jpg    \n",
            "  inflating: data/phishing/66.jpg    \n",
            "  inflating: data/phishing/67.jpg    \n",
            "  inflating: data/phishing/68.jpg    \n",
            "  inflating: data/phishing/69.jpg    \n",
            "  inflating: data/phishing/7.jpg     \n",
            " extracting: data/phishing/70.jpg    \n",
            "  inflating: data/phishing/71.jpg    \n",
            "  inflating: data/phishing/72.jpg    \n",
            " extracting: data/phishing/73.jpg    \n",
            "  inflating: data/phishing/74.jpg    \n",
            "  inflating: data/phishing/75.jpg    \n",
            "  inflating: data/phishing/77.jpg    \n",
            " extracting: data/phishing/78.jpg    \n",
            " extracting: data/phishing/79.jpg    \n",
            "  inflating: data/phishing/8.jpg     \n",
            " extracting: data/phishing/80.jpg    \n",
            "  inflating: data/phishing/81.jpg    \n",
            "  inflating: data/phishing/82.jpg    \n",
            "  inflating: data/phishing/83.jpg    \n",
            "  inflating: data/phishing/84.jpg    \n",
            "  inflating: data/phishing/85.jpg    \n",
            "  inflating: data/phishing/86.jpg    \n",
            "  inflating: data/phishing/87.jpg    \n",
            "  inflating: data/phishing/88.jpg    \n",
            "  inflating: data/phishing/89.jpg    \n",
            "  inflating: data/phishing/9.jpg     \n",
            "  inflating: data/phishing/90.jpg    \n",
            "  inflating: data/phishing/91.jpg    \n",
            "  inflating: data/phishing/92.jpg    \n",
            "  inflating: data/phishing/93.jpg    \n",
            "  inflating: data/phishing/94.jpg    \n",
            " extracting: data/phishing/95.jpg    \n",
            " extracting: data/phishing/96.jpg    \n",
            "  inflating: data/phishing/97.jpg    \n",
            "  inflating: data/phishing/98.jpg    \n",
            "  inflating: data/phishing/99.jpg    \n",
            "\u001b[0m\u001b[01;34mdata\u001b[0m/  data.zip  \u001b[01;34msample_data\u001b[0m/\n"
          ]
        }
      ]
    },
    {
      "cell_type": "code",
      "source": [
        "!pip install onnx\n",
        "!pip install onnxruntime"
      ],
      "metadata": {
        "colab": {
          "base_uri": "https://localhost:8080/"
        },
        "collapsed": true,
        "id": "xvR6XPyMcIh8",
        "outputId": "515a44bb-b9a5-45ca-fb03-17e6f03a1c5f"
      },
      "execution_count": 44,
      "outputs": [
        {
          "output_type": "stream",
          "name": "stdout",
          "text": [
            "Collecting onnx\n",
            "  Downloading onnx-1.17.0-cp311-cp311-manylinux_2_17_x86_64.manylinux2014_x86_64.whl.metadata (16 kB)\n",
            "Requirement already satisfied: numpy>=1.20 in /usr/local/lib/python3.11/dist-packages (from onnx) (1.26.4)\n",
            "Requirement already satisfied: protobuf>=3.20.2 in /usr/local/lib/python3.11/dist-packages (from onnx) (4.25.6)\n",
            "Downloading onnx-1.17.0-cp311-cp311-manylinux_2_17_x86_64.manylinux2014_x86_64.whl (16.0 MB)\n",
            "\u001b[2K   \u001b[90m━━━━━━━━━━━━━━━━━━━━━━━━━━━━━━━━━━━━━━━━\u001b[0m \u001b[32m16.0/16.0 MB\u001b[0m \u001b[31m46.6 MB/s\u001b[0m eta \u001b[36m0:00:00\u001b[0m\n",
            "\u001b[?25hInstalling collected packages: onnx\n",
            "Successfully installed onnx-1.17.0\n",
            "Collecting onnxruntime\n",
            "  Downloading onnxruntime-1.21.0-cp311-cp311-manylinux_2_27_x86_64.manylinux_2_28_x86_64.whl.metadata (4.5 kB)\n",
            "Collecting coloredlogs (from onnxruntime)\n",
            "  Downloading coloredlogs-15.0.1-py2.py3-none-any.whl.metadata (12 kB)\n",
            "Requirement already satisfied: flatbuffers in /usr/local/lib/python3.11/dist-packages (from onnxruntime) (25.2.10)\n",
            "Requirement already satisfied: numpy>=1.21.6 in /usr/local/lib/python3.11/dist-packages (from onnxruntime) (1.26.4)\n",
            "Requirement already satisfied: packaging in /usr/local/lib/python3.11/dist-packages (from onnxruntime) (24.2)\n",
            "Requirement already satisfied: protobuf in /usr/local/lib/python3.11/dist-packages (from onnxruntime) (4.25.6)\n",
            "Requirement already satisfied: sympy in /usr/local/lib/python3.11/dist-packages (from onnxruntime) (1.13.1)\n",
            "Collecting humanfriendly>=9.1 (from coloredlogs->onnxruntime)\n",
            "  Downloading humanfriendly-10.0-py2.py3-none-any.whl.metadata (9.2 kB)\n",
            "Requirement already satisfied: mpmath<1.4,>=1.1.0 in /usr/local/lib/python3.11/dist-packages (from sympy->onnxruntime) (1.3.0)\n",
            "Downloading onnxruntime-1.21.0-cp311-cp311-manylinux_2_27_x86_64.manylinux_2_28_x86_64.whl (16.0 MB)\n",
            "\u001b[2K   \u001b[90m━━━━━━━━━━━━━━━━━━━━━━━━━━━━━━━━━━━━━━━━\u001b[0m \u001b[32m16.0/16.0 MB\u001b[0m \u001b[31m52.9 MB/s\u001b[0m eta \u001b[36m0:00:00\u001b[0m\n",
            "\u001b[?25hDownloading coloredlogs-15.0.1-py2.py3-none-any.whl (46 kB)\n",
            "\u001b[2K   \u001b[90m━━━━━━━━━━━━━━━━━━━━━━━━━━━━━━━━━━━━━━━━\u001b[0m \u001b[32m46.0/46.0 kB\u001b[0m \u001b[31m3.1 MB/s\u001b[0m eta \u001b[36m0:00:00\u001b[0m\n",
            "\u001b[?25hDownloading humanfriendly-10.0-py2.py3-none-any.whl (86 kB)\n",
            "\u001b[2K   \u001b[90m━━━━━━━━━━━━━━━━━━━━━━━━━━━━━━━━━━━━━━━━\u001b[0m \u001b[32m86.8/86.8 kB\u001b[0m \u001b[31m7.0 MB/s\u001b[0m eta \u001b[36m0:00:00\u001b[0m\n",
            "\u001b[?25hInstalling collected packages: humanfriendly, coloredlogs, onnxruntime\n",
            "Successfully installed coloredlogs-15.0.1 humanfriendly-10.0 onnxruntime-1.21.0\n"
          ]
        }
      ]
    },
    {
      "cell_type": "code",
      "source": [
        "import os\n",
        "import torch\n",
        "import torchvision.models as models\n",
        "import torch.nn as nn\n",
        "import torch.optim as optim\n",
        "import torch.utils.data as data\n",
        "import torchvision.transforms as transforms\n",
        "import numpy as np\n",
        "import matplotlib.pyplot as plt\n",
        "from torch.optim import lr_scheduler\n",
        "from torchvision.datasets import ImageFolder\n",
        "from torch.utils.data import DataLoader, random_split, Subset\n",
        "from sklearn.model_selection import KFold\n",
        "from sklearn.metrics import roc_curve, auc\n",
        "import tensorflow as tf\n",
        "import onnx\n",
        "import onnxruntime as ort\n",
        "\n",
        "\n",
        "device = torch.device(\"cuda:0\" if torch.cuda.is_available() else \"cpu\")"
      ],
      "metadata": {
        "id": "7LYTT7koJztQ"
      },
      "execution_count": 46,
      "outputs": []
    },
    {
      "cell_type": "code",
      "execution_count": 6,
      "metadata": {
        "id": "3STSGe4GR_h_",
        "collapsed": true
      },
      "outputs": [],
      "source": [
        "from PIL import Image\n",
        "\n",
        "class ImageDataset(torch.utils.data.Dataset):\n",
        "    def __init__(self, dataset_dir, transform=None):\n",
        "        self.dataset_dir = dataset_dir\n",
        "        self.transform = transform\n",
        "        self.images, self.labels = [], []\n",
        "        for dirpath, _, filenames in os.walk(dataset_dir):\n",
        "            for filename in filenames:\n",
        "                label = 0 if 'normal' in dirpath else 1\n",
        "                img_path = os.path.join(dirpath, filename)\n",
        "                self.images.append(img_path)\n",
        "                self.labels.append(label)\n",
        "\n",
        "    def __len__(self):\n",
        "        return len(self.labels)\n",
        "\n",
        "    def __getitem__(self, idx):\n",
        "        image = Image.open(self.images[idx]).convert('RGB')\n",
        "        if self.transform:\n",
        "            image = self.transform(image)\n",
        "        return image, self.labels[idx]"
      ]
    },
    {
      "cell_type": "code",
      "source": [
        "train_transform = transforms.Compose([\n",
        "    transforms.Resize((256, 256)),\n",
        "    transforms.RandomResizedCrop(224),\n",
        "    transforms.RandomHorizontalFlip(),\n",
        "    transforms.RandomRotation(15),\n",
        "    transforms.ToTensor(),\n",
        "    transforms.Normalize([0.485, 0.456, 0.406], [0.229, 0.224, 0.225])\n",
        "])"
      ],
      "metadata": {
        "id": "fE6CJHreSmDP"
      },
      "execution_count": 29,
      "outputs": []
    },
    {
      "cell_type": "code",
      "source": [
        "val_transform = transforms.Compose([\n",
        "    transforms.Resize((224, 224)),\n",
        "    transforms.ToTensor(),\n",
        "    transforms.Normalize([0.485, 0.456, 0.406], [0.229, 0.224, 0.225])\n",
        "])"
      ],
      "metadata": {
        "id": "k2byYsOUjHFM"
      },
      "execution_count": null,
      "outputs": []
    },
    {
      "cell_type": "code",
      "source": [
        "from tqdm import tqdm\n",
        "\n",
        "k_folds = 5\n",
        "kf = KFold(n_splits=k_folds, shuffle=True, random_state=42)\n",
        "\n",
        "def train_and_evaluate(model_name, model, dataset, train_transform, val_transform):\n",
        "    device = torch.device(\"cuda\" if torch.cuda.is_available() else \"cpu\")\n",
        "    model = model.to(device)\n",
        "    criterion = nn.CrossEntropyLoss()\n",
        "    optimizer = optim.Adam(model.parameters(), lr=0.001)\n",
        "    scheduler = lr_scheduler.StepLR(optimizer, step_size=7, gamma=0.1)\n",
        "\n",
        "    model_dir = f\"models/{model_name}\"\n",
        "    os.makedirs(model_dir, exist_ok=True)\n",
        "\n",
        "    all_train_losses, all_test_losses = [], []\n",
        "    all_train_accs, all_test_accs = [], []\n",
        "    all_fprs, all_tprs, roc_aucs = [], [], []\n",
        "\n",
        "    for fold, (train_idx, test_idx) in enumerate(kf.split(dataset)):\n",
        "        print(f'Fold {fold+1}/{k_folds} for {model_name}')\n",
        "        train_subset = Subset(dataset, train_idx)\n",
        "        test_subset = Subset(dataset, test_idx)\n",
        "\n",
        "        train_subset.dataset.transform = train_transform\n",
        "        test_subset.dataset.transform = val_transform\n",
        "\n",
        "        train_loader = DataLoader(train_subset, batch_size=32, shuffle=True)\n",
        "        test_loader = DataLoader(test_subset, batch_size=32, shuffle=False)\n",
        "\n",
        "        best_acc = 0.0\n",
        "        for epoch in tqdm(range(10), desc=f\"Training {model_name} Fold {fold+1}\"):\n",
        "            model.train()\n",
        "            running_loss, correct = 0.0, 0\n",
        "\n",
        "            for inputs, labels in train_loader:\n",
        "                inputs, labels = inputs.to(device), labels.to(device)\n",
        "                optimizer.zero_grad()\n",
        "                outputs = model(inputs)\n",
        "                loss = criterion(outputs, labels)\n",
        "                loss.backward()\n",
        "                optimizer.step()\n",
        "                running_loss += loss.item() * inputs.size(0)\n",
        "                correct += (outputs.argmax(1) == labels).sum().item()\n",
        "\n",
        "            epoch_acc = correct / len(train_subset)\n",
        "            all_train_losses.append(running_loss / len(train_subset))\n",
        "            all_train_accs.append(epoch_acc)\n",
        "\n",
        "            model.eval()\n",
        "            correct, total, test_loss = 0, 0, 0.0\n",
        "            all_preds, all_targets = [], []\n",
        "            with torch.no_grad():\n",
        "                for inputs, labels in test_loader:\n",
        "                    inputs, labels = inputs.to(device), labels.to(device)\n",
        "                    outputs = model(inputs)\n",
        "                    loss = criterion(outputs, labels)\n",
        "                    test_loss += loss.item() * inputs.size(0)\n",
        "                    correct += (outputs.argmax(1) == labels).sum().item()\n",
        "                    total += labels.size(0)\n",
        "                    all_preds.extend(outputs.softmax(1)[:, 1].cpu().numpy())\n",
        "                    all_targets.extend(labels.cpu().numpy())\n",
        "\n",
        "            epoch_test_acc = correct / total\n",
        "            all_test_losses.append(test_loss / total)\n",
        "            all_test_accs.append(epoch_test_acc)\n",
        "\n",
        "            fpr, tpr, _ = roc_curve(all_targets, all_preds)\n",
        "            all_fprs.append(fpr)\n",
        "            all_tprs.append(tpr)\n",
        "            roc_aucs.append(auc(fpr, tpr))\n",
        "\n",
        "            if epoch_test_acc > best_acc:\n",
        "                best_acc = epoch_test_acc\n",
        "                torch.save(model.state_dict(), f\"{model_dir}/best_model_fold_{fold}.pth\")\n",
        "\n",
        "    torch.save(model.state_dict(), f\"{model_dir}/final_model.pth\")\n",
        "\n",
        "    return all_train_losses, all_test_losses, all_train_accs, all_test_accs, all_fprs, all_tprs, roc_aucs"
      ],
      "metadata": {
        "id": "7b60DPGFKB1w"
      },
      "execution_count": 30,
      "outputs": []
    },
    {
      "cell_type": "code",
      "source": [
        "models_dict = {\n",
        "    'MobileNetV2': models.mobilenet_v2(weights='IMAGENET1K_V2'),\n",
        "    'MobileNetV3': models.mobilenet_v3_large(weights='IMAGENET1K_V2'),\n",
        "    'ShuffleNetV2': models.shufflenet_v2_x1_0(weights='IMAGENET1K_V1'),\n",
        "    'VisionTransformer': models.vit_b_16(weights='IMAGENET1K_V1')\n",
        "}"
      ],
      "metadata": {
        "id": "xtF2Gs-LKjtO"
      },
      "execution_count": 33,
      "outputs": []
    },
    {
      "cell_type": "code",
      "source": [
        "results = {}\n",
        "for model_name, model in tqdm(models_dict.items(), desc=\"Training Models\"):\n",
        "    print(f\"Training {model_name}\")\n",
        "    results[model_name] = train_and_evaluate(model_name, model, dataset, train_transform, val_transform)\n"
      ],
      "metadata": {
        "id": "vo5X0Nj9Klv6",
        "colab": {
          "base_uri": "https://localhost:8080/"
        },
        "outputId": "f6e9e8a6-b534-4f83-93bd-f216aa0291d5"
      },
      "execution_count": 34,
      "outputs": [
        {
          "metadata": {
            "tags": null
          },
          "name": "stderr",
          "output_type": "stream",
          "text": [
            "\rTraining Models:   0%|          | 0/4 [00:00<?, ?it/s]"
          ]
        },
        {
          "metadata": {
            "tags": null
          },
          "name": "stdout",
          "output_type": "stream",
          "text": [
            "Training MobileNetV2\n",
            "Fold 1/5 for MobileNetV2\n"
          ]
        },
        {
          "metadata": {
            "tags": null
          },
          "name": "stderr",
          "output_type": "stream",
          "text": [
            "\n",
            "Training MobileNetV2 Fold 1:   0%|          | 0/10 [00:00<?, ?it/s]\u001b[A\n",
            "Training MobileNetV2 Fold 1:  10%|█         | 1/10 [00:49<07:29, 50.00s/it]\u001b[A\n",
            "Training MobileNetV2 Fold 1:  20%|██        | 2/10 [01:40<06:40, 50.08s/it]\u001b[A\n",
            "Training MobileNetV2 Fold 1:  30%|███       | 3/10 [02:29<05:49, 49.89s/it]\u001b[A\n",
            "Training MobileNetV2 Fold 1:  40%|████      | 4/10 [03:19<04:58, 49.72s/it]\u001b[A\n",
            "Training MobileNetV2 Fold 1:  50%|█████     | 5/10 [04:08<04:07, 49.41s/it]\u001b[A\n",
            "Training MobileNetV2 Fold 1:  60%|██████    | 6/10 [04:57<03:17, 49.49s/it]\u001b[A\n",
            "Training MobileNetV2 Fold 1:  70%|███████   | 7/10 [05:47<02:29, 49.67s/it]\u001b[A\n",
            "Training MobileNetV2 Fold 1:  80%|████████  | 8/10 [06:37<01:39, 49.75s/it]\u001b[A\n",
            "Training MobileNetV2 Fold 1:  90%|█████████ | 9/10 [07:27<00:49, 49.89s/it]\u001b[A\n",
            "Training MobileNetV2 Fold 1: 100%|██████████| 10/10 [08:17<00:00, 49.78s/it]\n"
          ]
        },
        {
          "metadata": {
            "tags": null
          },
          "name": "stdout",
          "output_type": "stream",
          "text": [
            "Fold 2/5 for MobileNetV2\n"
          ]
        },
        {
          "metadata": {
            "tags": null
          },
          "name": "stderr",
          "output_type": "stream",
          "text": [
            "\n",
            "Training MobileNetV2 Fold 2:   0%|          | 0/10 [00:00<?, ?it/s]\u001b[A\n",
            "Training MobileNetV2 Fold 2:  10%|█         | 1/10 [00:50<07:34, 50.46s/it]\u001b[A\n",
            "Training MobileNetV2 Fold 2:  20%|██        | 2/10 [01:41<06:44, 50.62s/it]\u001b[A\n",
            "Training MobileNetV2 Fold 2:  30%|███       | 3/10 [02:32<05:56, 50.95s/it]\u001b[A\n",
            "Training MobileNetV2 Fold 2:  40%|████      | 4/10 [03:23<05:04, 50.79s/it]\u001b[A\n",
            "Training MobileNetV2 Fold 2:  50%|█████     | 5/10 [04:13<04:13, 50.61s/it]\u001b[A\n",
            "Training MobileNetV2 Fold 2:  60%|██████    | 6/10 [05:03<03:22, 50.58s/it]\u001b[A\n",
            "Training MobileNetV2 Fold 2:  70%|███████   | 7/10 [05:54<02:31, 50.50s/it]\u001b[A\n",
            "Training MobileNetV2 Fold 2:  80%|████████  | 8/10 [06:44<01:40, 50.43s/it]\u001b[A\n",
            "Training MobileNetV2 Fold 2:  90%|█████████ | 9/10 [07:35<00:50, 50.57s/it]\u001b[A\n",
            "Training MobileNetV2 Fold 2: 100%|██████████| 10/10 [08:25<00:00, 50.59s/it]\n"
          ]
        },
        {
          "metadata": {
            "tags": null
          },
          "name": "stdout",
          "output_type": "stream",
          "text": [
            "Fold 3/5 for MobileNetV2\n"
          ]
        },
        {
          "metadata": {
            "tags": null
          },
          "name": "stderr",
          "output_type": "stream",
          "text": [
            "\n",
            "Training MobileNetV2 Fold 3:   0%|          | 0/10 [00:00<?, ?it/s]\u001b[A\n",
            "Training MobileNetV2 Fold 3:  10%|█         | 1/10 [00:50<07:38, 50.91s/it]\u001b[A\n",
            "Training MobileNetV2 Fold 3:  20%|██        | 2/10 [01:42<06:48, 51.02s/it]\u001b[A\n",
            "Training MobileNetV2 Fold 3:  30%|███       | 3/10 [02:32<05:54, 50.70s/it]\u001b[A\n",
            "Training MobileNetV2 Fold 3:  40%|████      | 4/10 [03:23<05:04, 50.80s/it]\u001b[A\n",
            "Training MobileNetV2 Fold 3:  50%|█████     | 5/10 [04:15<04:16, 51.37s/it]\u001b[A\n",
            "Training MobileNetV2 Fold 3:  60%|██████    | 6/10 [05:06<03:25, 51.29s/it]\u001b[A\n",
            "Training MobileNetV2 Fold 3:  70%|███████   | 7/10 [05:58<02:33, 51.29s/it]\u001b[A\n",
            "Training MobileNetV2 Fold 3:  80%|████████  | 8/10 [06:49<01:42, 51.28s/it]\u001b[A\n",
            "Training MobileNetV2 Fold 3:  90%|█████████ | 9/10 [07:40<00:51, 51.17s/it]\u001b[A\n",
            "Training MobileNetV2 Fold 3: 100%|██████████| 10/10 [08:30<00:00, 51.03s/it]\n"
          ]
        },
        {
          "metadata": {
            "tags": null
          },
          "name": "stdout",
          "output_type": "stream",
          "text": [
            "Fold 4/5 for MobileNetV2\n"
          ]
        },
        {
          "metadata": {
            "tags": null
          },
          "name": "stderr",
          "output_type": "stream",
          "text": [
            "\n",
            "Training MobileNetV2 Fold 4:   0%|          | 0/10 [00:00<?, ?it/s]\u001b[A\n",
            "Training MobileNetV2 Fold 4:  10%|█         | 1/10 [00:50<07:35, 50.61s/it]\u001b[A\n",
            "Training MobileNetV2 Fold 4:  20%|██        | 2/10 [01:40<06:43, 50.45s/it]\u001b[A\n",
            "Training MobileNetV2 Fold 4:  30%|███       | 3/10 [02:31<05:53, 50.48s/it]\u001b[A\n",
            "Training MobileNetV2 Fold 4:  40%|████      | 4/10 [03:21<05:01, 50.31s/it]\u001b[A\n",
            "Training MobileNetV2 Fold 4:  50%|█████     | 5/10 [04:11<04:10, 50.02s/it]\u001b[A\n",
            "Training MobileNetV2 Fold 4:  60%|██████    | 6/10 [05:00<03:19, 49.98s/it]\u001b[A\n",
            "Training MobileNetV2 Fold 4:  70%|███████   | 7/10 [05:51<02:30, 50.16s/it]\u001b[A\n",
            "Training MobileNetV2 Fold 4:  80%|████████  | 8/10 [06:40<01:39, 49.86s/it]\u001b[A\n",
            "Training MobileNetV2 Fold 4:  90%|█████████ | 9/10 [07:30<00:49, 49.77s/it]\u001b[A\n",
            "Training MobileNetV2 Fold 4: 100%|██████████| 10/10 [08:19<00:00, 49.97s/it]\n"
          ]
        },
        {
          "metadata": {
            "tags": null
          },
          "name": "stdout",
          "output_type": "stream",
          "text": [
            "Fold 5/5 for MobileNetV2\n"
          ]
        },
        {
          "metadata": {
            "tags": null
          },
          "name": "stderr",
          "output_type": "stream",
          "text": [
            "\n",
            "Training MobileNetV2 Fold 5:   0%|          | 0/10 [00:00<?, ?it/s]\u001b[A\n",
            "Training MobileNetV2 Fold 5:  10%|█         | 1/10 [00:50<07:30, 50.07s/it]\u001b[A\n",
            "Training MobileNetV2 Fold 5:  20%|██        | 2/10 [01:41<06:46, 50.81s/it]\u001b[A\n",
            "Training MobileNetV2 Fold 5:  30%|███       | 3/10 [02:31<05:54, 50.68s/it]\u001b[A\n",
            "Training MobileNetV2 Fold 5:  40%|████      | 4/10 [03:22<05:03, 50.51s/it]\u001b[A\n",
            "Training MobileNetV2 Fold 5:  50%|█████     | 5/10 [04:12<04:11, 50.38s/it]\u001b[A\n",
            "Training MobileNetV2 Fold 5:  60%|██████    | 6/10 [05:03<03:22, 50.56s/it]\u001b[A\n",
            "Training MobileNetV2 Fold 5:  70%|███████   | 7/10 [05:54<02:32, 50.72s/it]\u001b[A\n",
            "Training MobileNetV2 Fold 5:  80%|████████  | 8/10 [06:44<01:41, 50.63s/it]\u001b[A\n",
            "Training MobileNetV2 Fold 5:  90%|█████████ | 9/10 [07:35<00:50, 50.61s/it]\u001b[A\n",
            "Training MobileNetV2 Fold 5: 100%|██████████| 10/10 [08:25<00:00, 50.53s/it]\n",
            "Training Models:  25%|██▌       | 1/4 [41:59<2:05:57, 2519.17s/it]"
          ]
        },
        {
          "metadata": {
            "tags": null
          },
          "name": "stdout",
          "output_type": "stream",
          "text": [
            "Training MobileNetV3\n",
            "Fold 1/5 for MobileNetV3\n"
          ]
        },
        {
          "metadata": {
            "tags": null
          },
          "name": "stderr",
          "output_type": "stream",
          "text": [
            "\n",
            "Training MobileNetV3 Fold 1:   0%|          | 0/10 [00:00<?, ?it/s]\u001b[A\n",
            "Training MobileNetV3 Fold 1:  10%|█         | 1/10 [00:38<05:49, 38.83s/it]\u001b[A\n",
            "Training MobileNetV3 Fold 1:  20%|██        | 2/10 [01:18<05:12, 39.03s/it]\u001b[A\n",
            "Training MobileNetV3 Fold 1:  30%|███       | 3/10 [01:56<04:32, 38.89s/it]\u001b[A\n",
            "Training MobileNetV3 Fold 1:  40%|████      | 4/10 [02:35<03:53, 38.84s/it]\u001b[A\n",
            "Training MobileNetV3 Fold 1:  50%|█████     | 5/10 [03:13<03:13, 38.72s/it]\u001b[A\n",
            "Training MobileNetV3 Fold 1:  60%|██████    | 6/10 [03:52<02:34, 38.74s/it]\u001b[A\n",
            "Training MobileNetV3 Fold 1:  70%|███████   | 7/10 [04:31<01:56, 38.79s/it]\u001b[A\n",
            "Training MobileNetV3 Fold 1:  80%|████████  | 8/10 [05:10<01:17, 38.69s/it]\u001b[A\n",
            "Training MobileNetV3 Fold 1:  90%|█████████ | 9/10 [05:49<00:38, 38.89s/it]\u001b[A\n",
            "Training MobileNetV3 Fold 1: 100%|██████████| 10/10 [06:28<00:00, 38.82s/it]\n"
          ]
        },
        {
          "metadata": {
            "tags": null
          },
          "name": "stdout",
          "output_type": "stream",
          "text": [
            "Fold 2/5 for MobileNetV3\n"
          ]
        },
        {
          "metadata": {
            "tags": null
          },
          "name": "stderr",
          "output_type": "stream",
          "text": [
            "\n",
            "Training MobileNetV3 Fold 2:   0%|          | 0/10 [00:00<?, ?it/s]\u001b[A\n",
            "Training MobileNetV3 Fold 2:  10%|█         | 1/10 [00:39<05:52, 39.11s/it]\u001b[A\n",
            "Training MobileNetV3 Fold 2:  20%|██        | 2/10 [01:18<05:12, 39.02s/it]\u001b[A\n",
            "Training MobileNetV3 Fold 2:  30%|███       | 3/10 [01:57<04:33, 39.11s/it]\u001b[A\n",
            "Training MobileNetV3 Fold 2:  40%|████      | 4/10 [02:36<03:54, 39.09s/it]\u001b[A\n",
            "Training MobileNetV3 Fold 2:  50%|█████     | 5/10 [03:15<03:16, 39.24s/it]\u001b[A\n",
            "Training MobileNetV3 Fold 2:  60%|██████    | 6/10 [03:54<02:36, 39.16s/it]\u001b[A\n",
            "Training MobileNetV3 Fold 2:  70%|███████   | 7/10 [04:33<01:57, 39.07s/it]\u001b[A\n",
            "Training MobileNetV3 Fold 2:  80%|████████  | 8/10 [05:12<01:17, 38.91s/it]\u001b[A\n",
            "Training MobileNetV3 Fold 2:  90%|█████████ | 9/10 [05:51<00:38, 38.88s/it]\u001b[A\n",
            "Training MobileNetV3 Fold 2: 100%|██████████| 10/10 [06:30<00:00, 39.06s/it]\n"
          ]
        },
        {
          "metadata": {
            "tags": null
          },
          "name": "stdout",
          "output_type": "stream",
          "text": [
            "Fold 3/5 for MobileNetV3\n"
          ]
        },
        {
          "metadata": {
            "tags": null
          },
          "name": "stderr",
          "output_type": "stream",
          "text": [
            "\n",
            "Training MobileNetV3 Fold 3:   0%|          | 0/10 [00:00<?, ?it/s]\u001b[A\n",
            "Training MobileNetV3 Fold 3:  10%|█         | 1/10 [00:39<05:56, 39.57s/it]\u001b[A\n",
            "Training MobileNetV3 Fold 3:  20%|██        | 2/10 [01:18<05:13, 39.19s/it]\u001b[A\n",
            "Training MobileNetV3 Fold 3:  30%|███       | 3/10 [01:57<04:34, 39.22s/it]\u001b[A\n",
            "Training MobileNetV3 Fold 3:  40%|████      | 4/10 [02:36<03:53, 38.99s/it]\u001b[A\n",
            "Training MobileNetV3 Fold 3:  50%|█████     | 5/10 [03:14<03:14, 38.85s/it]\u001b[A\n",
            "Training MobileNetV3 Fold 3:  60%|██████    | 6/10 [03:54<02:35, 38.95s/it]\u001b[A\n",
            "Training MobileNetV3 Fold 3:  70%|███████   | 7/10 [04:33<01:57, 39.04s/it]\u001b[A\n",
            "Training MobileNetV3 Fold 3:  80%|████████  | 8/10 [05:12<01:17, 38.98s/it]\u001b[A\n",
            "Training MobileNetV3 Fold 3:  90%|█████████ | 9/10 [05:51<00:38, 38.95s/it]\u001b[A\n",
            "Training MobileNetV3 Fold 3: 100%|██████████| 10/10 [06:29<00:00, 38.98s/it]\n"
          ]
        },
        {
          "metadata": {
            "tags": null
          },
          "name": "stdout",
          "output_type": "stream",
          "text": [
            "Fold 4/5 for MobileNetV3\n"
          ]
        },
        {
          "metadata": {
            "tags": null
          },
          "name": "stderr",
          "output_type": "stream",
          "text": [
            "\n",
            "Training MobileNetV3 Fold 4:   0%|          | 0/10 [00:00<?, ?it/s]\u001b[A\n",
            "Training MobileNetV3 Fold 4:  10%|█         | 1/10 [00:38<05:50, 38.93s/it]\u001b[A\n",
            "Training MobileNetV3 Fold 4:  20%|██        | 2/10 [01:18<05:12, 39.04s/it]\u001b[A\n",
            "Training MobileNetV3 Fold 4:  30%|███       | 3/10 [01:56<04:32, 38.96s/it]\u001b[A\n",
            "Training MobileNetV3 Fold 4:  40%|████      | 4/10 [02:36<03:55, 39.19s/it]\u001b[A\n",
            "Training MobileNetV3 Fold 4:  50%|█████     | 5/10 [03:15<03:15, 39.16s/it]\u001b[A\n",
            "Training MobileNetV3 Fold 4:  60%|██████    | 6/10 [03:54<02:35, 38.96s/it]\u001b[A\n",
            "Training MobileNetV3 Fold 4:  70%|███████   | 7/10 [04:32<01:56, 38.81s/it]\u001b[A\n",
            "Training MobileNetV3 Fold 4:  80%|████████  | 8/10 [05:11<01:17, 38.83s/it]\u001b[A\n",
            "Training MobileNetV3 Fold 4:  90%|█████████ | 9/10 [05:50<00:38, 38.80s/it]\u001b[A\n",
            "Training MobileNetV3 Fold 4: 100%|██████████| 10/10 [06:29<00:00, 38.93s/it]\n"
          ]
        },
        {
          "metadata": {
            "tags": null
          },
          "name": "stdout",
          "output_type": "stream",
          "text": [
            "Fold 5/5 for MobileNetV3\n"
          ]
        },
        {
          "metadata": {
            "tags": null
          },
          "name": "stderr",
          "output_type": "stream",
          "text": [
            "\n",
            "Training MobileNetV3 Fold 5:   0%|          | 0/10 [00:00<?, ?it/s]\u001b[A\n",
            "Training MobileNetV3 Fold 5:  10%|█         | 1/10 [00:38<05:50, 38.91s/it]\u001b[A\n",
            "Training MobileNetV3 Fold 5:  20%|██        | 2/10 [01:17<05:10, 38.85s/it]\u001b[A\n",
            "Training MobileNetV3 Fold 5:  30%|███       | 3/10 [01:56<04:31, 38.72s/it]\u001b[A\n",
            "Training MobileNetV3 Fold 5:  40%|████      | 4/10 [02:35<03:52, 38.77s/it]\u001b[A\n",
            "Training MobileNetV3 Fold 5:  50%|█████     | 5/10 [03:14<03:14, 38.98s/it]\u001b[A\n",
            "Training MobileNetV3 Fold 5:  60%|██████    | 6/10 [03:54<02:36, 39.20s/it]\u001b[A\n",
            "Training MobileNetV3 Fold 5:  70%|███████   | 7/10 [04:33<01:57, 39.22s/it]\u001b[A\n",
            "Training MobileNetV3 Fold 5:  80%|████████  | 8/10 [05:12<01:18, 39.32s/it]\u001b[A\n",
            "Training MobileNetV3 Fold 5:  90%|█████████ | 9/10 [05:52<00:39, 39.35s/it]\u001b[A\n",
            "Training MobileNetV3 Fold 5: 100%|██████████| 10/10 [06:31<00:00, 39.19s/it]\n",
            "Training Models:  50%|█████     | 2/4 [1:14:28<1:12:48, 2184.24s/it]"
          ]
        },
        {
          "metadata": {
            "tags": null
          },
          "name": "stdout",
          "output_type": "stream",
          "text": [
            "Training ShuffleNetV2\n",
            "Fold 1/5 for ShuffleNetV2\n"
          ]
        },
        {
          "metadata": {
            "tags": null
          },
          "name": "stderr",
          "output_type": "stream",
          "text": [
            "\n",
            "Training ShuffleNetV2 Fold 1:   0%|          | 0/10 [00:00<?, ?it/s]\u001b[A\n",
            "Training ShuffleNetV2 Fold 1:  10%|█         | 1/10 [00:23<03:28, 23.12s/it]\u001b[A\n",
            "Training ShuffleNetV2 Fold 1:  20%|██        | 2/10 [00:46<03:03, 22.98s/it]\u001b[A\n",
            "Training ShuffleNetV2 Fold 1:  30%|███       | 3/10 [01:08<02:40, 22.98s/it]\u001b[A\n",
            "Training ShuffleNetV2 Fold 1:  40%|████      | 4/10 [01:31<02:17, 22.99s/it]\u001b[A\n",
            "Training ShuffleNetV2 Fold 1:  50%|█████     | 5/10 [01:54<01:54, 22.94s/it]\u001b[A\n",
            "Training ShuffleNetV2 Fold 1:  60%|██████    | 6/10 [02:17<01:30, 22.73s/it]\u001b[A\n",
            "Training ShuffleNetV2 Fold 1:  70%|███████   | 7/10 [02:39<01:08, 22.75s/it]\u001b[A\n",
            "Training ShuffleNetV2 Fold 1:  80%|████████  | 8/10 [03:02<00:45, 22.77s/it]\u001b[A\n",
            "Training ShuffleNetV2 Fold 1:  90%|█████████ | 9/10 [03:25<00:22, 22.77s/it]\u001b[A\n",
            "Training ShuffleNetV2 Fold 1: 100%|██████████| 10/10 [03:48<00:00, 22.83s/it]\n"
          ]
        },
        {
          "metadata": {
            "tags": null
          },
          "name": "stdout",
          "output_type": "stream",
          "text": [
            "Fold 2/5 for ShuffleNetV2\n"
          ]
        },
        {
          "metadata": {
            "tags": null
          },
          "name": "stderr",
          "output_type": "stream",
          "text": [
            "\n",
            "Training ShuffleNetV2 Fold 2:   0%|          | 0/10 [00:00<?, ?it/s]\u001b[A\n",
            "Training ShuffleNetV2 Fold 2:  10%|█         | 1/10 [00:22<03:26, 22.90s/it]\u001b[A\n",
            "Training ShuffleNetV2 Fold 2:  20%|██        | 2/10 [00:45<03:01, 22.66s/it]\u001b[A\n",
            "Training ShuffleNetV2 Fold 2:  30%|███       | 3/10 [01:07<02:38, 22.60s/it]\u001b[A\n",
            "Training ShuffleNetV2 Fold 2:  40%|████      | 4/10 [01:30<02:16, 22.71s/it]\u001b[A\n",
            "Training ShuffleNetV2 Fold 2:  50%|█████     | 5/10 [01:53<01:53, 22.78s/it]\u001b[A\n",
            "Training ShuffleNetV2 Fold 2:  60%|██████    | 6/10 [02:16<01:31, 22.78s/it]\u001b[A\n",
            "Training ShuffleNetV2 Fold 2:  70%|███████   | 7/10 [02:39<01:08, 22.80s/it]\u001b[A\n",
            "Training ShuffleNetV2 Fold 2:  80%|████████  | 8/10 [03:02<00:45, 22.77s/it]\u001b[A\n",
            "Training ShuffleNetV2 Fold 2:  90%|█████████ | 9/10 [03:24<00:22, 22.55s/it]\u001b[A\n",
            "Training ShuffleNetV2 Fold 2: 100%|██████████| 10/10 [03:46<00:00, 22.69s/it]\n"
          ]
        },
        {
          "metadata": {
            "tags": null
          },
          "name": "stdout",
          "output_type": "stream",
          "text": [
            "Fold 3/5 for ShuffleNetV2\n"
          ]
        },
        {
          "metadata": {
            "tags": null
          },
          "name": "stderr",
          "output_type": "stream",
          "text": [
            "\n",
            "Training ShuffleNetV2 Fold 3:   0%|          | 0/10 [00:00<?, ?it/s]\u001b[A\n",
            "Training ShuffleNetV2 Fold 3:  10%|█         | 1/10 [00:22<03:25, 22.78s/it]\u001b[A\n",
            "Training ShuffleNetV2 Fold 3:  20%|██        | 2/10 [00:45<03:02, 22.83s/it]\u001b[A\n",
            "Training ShuffleNetV2 Fold 3:  30%|███       | 3/10 [01:08<02:39, 22.86s/it]\u001b[A\n",
            "Training ShuffleNetV2 Fold 3:  40%|████      | 4/10 [01:31<02:16, 22.83s/it]\u001b[A\n",
            "Training ShuffleNetV2 Fold 3:  50%|█████     | 5/10 [01:53<01:53, 22.61s/it]\u001b[A\n",
            "Training ShuffleNetV2 Fold 3:  60%|██████    | 6/10 [02:16<01:30, 22.65s/it]\u001b[A\n",
            "Training ShuffleNetV2 Fold 3:  70%|███████   | 7/10 [02:39<01:08, 22.74s/it]\u001b[A\n",
            "Training ShuffleNetV2 Fold 3:  80%|████████  | 8/10 [03:02<00:45, 22.80s/it]\u001b[A\n",
            "Training ShuffleNetV2 Fold 3:  90%|█████████ | 9/10 [03:24<00:22, 22.81s/it]\u001b[A\n",
            "Training ShuffleNetV2 Fold 3: 100%|██████████| 10/10 [03:47<00:00, 22.80s/it]\n"
          ]
        },
        {
          "metadata": {
            "tags": null
          },
          "name": "stdout",
          "output_type": "stream",
          "text": [
            "Fold 4/5 for ShuffleNetV2\n"
          ]
        },
        {
          "metadata": {
            "tags": null
          },
          "name": "stderr",
          "output_type": "stream",
          "text": [
            "\n",
            "Training ShuffleNetV2 Fold 4:   0%|          | 0/10 [00:00<?, ?it/s]\u001b[A\n",
            "Training ShuffleNetV2 Fold 4:  10%|█         | 1/10 [00:23<03:27, 23.02s/it]\u001b[A\n",
            "Training ShuffleNetV2 Fold 4:  20%|██        | 2/10 [00:45<03:01, 22.67s/it]\u001b[A\n",
            "Training ShuffleNetV2 Fold 4:  30%|███       | 3/10 [01:08<02:40, 22.98s/it]\u001b[A\n",
            "Training ShuffleNetV2 Fold 4:  40%|████      | 4/10 [01:31<02:18, 23.06s/it]\u001b[A\n",
            "Training ShuffleNetV2 Fold 4:  50%|█████     | 5/10 [01:55<01:55, 23.11s/it]\u001b[A\n",
            "Training ShuffleNetV2 Fold 4:  60%|██████    | 6/10 [02:18<01:32, 23.10s/it]\u001b[A\n",
            "Training ShuffleNetV2 Fold 4:  70%|███████   | 7/10 [02:41<01:09, 23.13s/it]\u001b[A\n",
            "Training ShuffleNetV2 Fold 4:  80%|████████  | 8/10 [03:04<00:46, 23.13s/it]\u001b[A\n",
            "Training ShuffleNetV2 Fold 4:  90%|█████████ | 9/10 [03:27<00:23, 23.10s/it]\u001b[A\n",
            "Training ShuffleNetV2 Fold 4: 100%|██████████| 10/10 [03:50<00:00, 23.04s/it]\n"
          ]
        },
        {
          "metadata": {
            "tags": null
          },
          "name": "stdout",
          "output_type": "stream",
          "text": [
            "Fold 5/5 for ShuffleNetV2\n"
          ]
        },
        {
          "metadata": {
            "tags": null
          },
          "name": "stderr",
          "output_type": "stream",
          "text": [
            "\n",
            "Training ShuffleNetV2 Fold 5:   0%|          | 0/10 [00:00<?, ?it/s]\u001b[A\n",
            "Training ShuffleNetV2 Fold 5:  10%|█         | 1/10 [00:23<03:28, 23.22s/it]\u001b[A\n",
            "Training ShuffleNetV2 Fold 5:  20%|██        | 2/10 [00:46<03:04, 23.06s/it]\u001b[A\n",
            "Training ShuffleNetV2 Fold 5:  30%|███       | 3/10 [01:09<02:40, 22.96s/it]\u001b[A\n",
            "Training ShuffleNetV2 Fold 5:  40%|████      | 4/10 [01:31<02:17, 22.94s/it]\u001b[A\n",
            "Training ShuffleNetV2 Fold 5:  50%|█████     | 5/10 [01:54<01:54, 22.89s/it]\u001b[A\n",
            "Training ShuffleNetV2 Fold 5:  60%|██████    | 6/10 [02:16<01:30, 22.66s/it]\u001b[A\n",
            "Training ShuffleNetV2 Fold 5:  70%|███████   | 7/10 [02:39<01:08, 22.72s/it]\u001b[A\n",
            "Training ShuffleNetV2 Fold 5:  80%|████████  | 8/10 [03:02<00:45, 22.76s/it]\u001b[A\n",
            "Training ShuffleNetV2 Fold 5:  90%|█████████ | 9/10 [03:25<00:22, 22.81s/it]\u001b[A\n",
            "Training ShuffleNetV2 Fold 5: 100%|██████████| 10/10 [03:48<00:00, 22.85s/it]\n",
            "Training Models:  75%|███████▌  | 3/4 [1:33:31<28:28, 1708.36s/it]  "
          ]
        },
        {
          "metadata": {
            "tags": null
          },
          "name": "stdout",
          "output_type": "stream",
          "text": [
            "Training VisionTransformer\n",
            "Fold 1/5 for VisionTransformer\n"
          ]
        },
        {
          "metadata": {
            "tags": null
          },
          "name": "stderr",
          "output_type": "stream",
          "text": [
            "\n",
            "Training VisionTransformer Fold 1:   0%|          | 0/10 [00:00<?, ?it/s]\u001b[A\n",
            "Training VisionTransformer Fold 1:  10%|█         | 1/10 [07:09<1:04:27, 429.69s/it]\u001b[A\n",
            "Training VisionTransformer Fold 1:  20%|██        | 2/10 [14:00<55:47, 418.43s/it]  \u001b[A\n",
            "Training VisionTransformer Fold 1:  30%|███       | 3/10 [20:50<48:21, 414.54s/it]\u001b[A\n",
            "Training VisionTransformer Fold 1:  40%|████      | 4/10 [27:41<41:20, 413.34s/it]\u001b[A\n",
            "Training VisionTransformer Fold 1:  50%|█████     | 5/10 [34:31<34:20, 412.11s/it]\u001b[A\n",
            "Training VisionTransformer Fold 1:  60%|██████    | 6/10 [41:20<27:23, 410.92s/it]\u001b[A\n",
            "Training VisionTransformer Fold 1:  70%|███████   | 7/10 [48:09<20:31, 410.43s/it]\u001b[A\n",
            "Training VisionTransformer Fold 1:  80%|████████  | 8/10 [55:00<13:40, 410.48s/it]\u001b[A\n",
            "Training VisionTransformer Fold 1:  90%|█████████ | 9/10 [1:01:50<06:50, 410.52s/it]\u001b[A\n",
            "Training VisionTransformer Fold 1: 100%|██████████| 10/10 [1:08:39<00:00, 411.95s/it]\n"
          ]
        },
        {
          "metadata": {
            "tags": null
          },
          "name": "stdout",
          "output_type": "stream",
          "text": [
            "Fold 2/5 for VisionTransformer\n"
          ]
        },
        {
          "metadata": {
            "tags": null
          },
          "name": "stderr",
          "output_type": "stream",
          "text": [
            "\n",
            "Training VisionTransformer Fold 2:   0%|          | 0/10 [00:00<?, ?it/s]\u001b[A\n",
            "Training VisionTransformer Fold 2:  10%|█         | 1/10 [07:02<1:03:18, 422.01s/it]\u001b[A\n",
            "Training VisionTransformer Fold 2:  20%|██        | 2/10 [13:52<55:20, 415.03s/it]  \u001b[A\n",
            "Training VisionTransformer Fold 2:  30%|███       | 3/10 [20:42<48:09, 412.77s/it]\u001b[A\n",
            "Training VisionTransformer Fold 2:  40%|████      | 4/10 [27:32<41:10, 411.67s/it]\u001b[A\n",
            "Training VisionTransformer Fold 2:  50%|█████     | 5/10 [34:22<34:15, 411.01s/it]\u001b[A\n",
            "Training VisionTransformer Fold 2:  60%|██████    | 6/10 [41:14<27:25, 411.43s/it]\u001b[A\n",
            "Training VisionTransformer Fold 2:  70%|███████   | 7/10 [48:08<20:36, 412.27s/it]\u001b[A\n",
            "Training VisionTransformer Fold 2:  80%|████████  | 8/10 [54:59<13:43, 411.90s/it]\u001b[A\n",
            "Training VisionTransformer Fold 2:  90%|█████████ | 9/10 [1:01:49<06:51, 411.33s/it]\u001b[A\n",
            "Training VisionTransformer Fold 2: 100%|██████████| 10/10 [1:08:41<00:00, 412.18s/it]\n"
          ]
        },
        {
          "metadata": {
            "tags": null
          },
          "name": "stdout",
          "output_type": "stream",
          "text": [
            "Fold 3/5 for VisionTransformer\n"
          ]
        },
        {
          "output_type": "stream",
          "name": "stderr",
          "text": [
            "\n",
            "Training VisionTransformer Fold 3:   0%|          | 0/10 [00:00<?, ?it/s]\u001b[A\n",
            "Training VisionTransformer Fold 3:  10%|█         | 1/10 [07:11<1:04:40, 431.19s/it]\u001b[A\n",
            "Training VisionTransformer Fold 3:  20%|██        | 2/10 [14:03<55:58, 419.84s/it]  \u001b[A\n",
            "Training VisionTransformer Fold 3:  30%|███       | 3/10 [20:52<48:26, 415.23s/it]\u001b[A\n",
            "Training VisionTransformer Fold 3:  40%|████      | 4/10 [27:43<41:21, 413.55s/it]\u001b[A\n",
            "Training VisionTransformer Fold 3:  50%|█████     | 5/10 [34:33<34:20, 412.14s/it]\u001b[A\n",
            "Training VisionTransformer Fold 3:  60%|██████    | 6/10 [41:23<27:25, 411.49s/it]\u001b[A\n",
            "Training VisionTransformer Fold 3:  70%|███████   | 7/10 [48:13<20:32, 410.86s/it]\u001b[A\n",
            "Training VisionTransformer Fold 3:  80%|████████  | 8/10 [55:02<13:40, 410.21s/it]\u001b[A\n",
            "Training VisionTransformer Fold 3:  90%|█████████ | 9/10 [1:01:51<06:50, 410.03s/it]\u001b[A\n",
            "Training VisionTransformer Fold 3: 100%|██████████| 10/10 [1:08:40<00:00, 412.05s/it]\n"
          ]
        },
        {
          "output_type": "stream",
          "name": "stdout",
          "text": [
            "Fold 4/5 for VisionTransformer\n"
          ]
        },
        {
          "output_type": "stream",
          "name": "stderr",
          "text": [
            "\n",
            "Training VisionTransformer Fold 4:   0%|          | 0/10 [00:00<?, ?it/s]\u001b[A\n",
            "Training VisionTransformer Fold 4:  10%|█         | 1/10 [07:14<1:05:07, 434.18s/it]\u001b[A\n",
            "Training VisionTransformer Fold 4:  20%|██        | 2/10 [14:02<55:53, 419.21s/it]  \u001b[A\n",
            "Training VisionTransformer Fold 4:  30%|███       | 3/10 [20:50<48:18, 414.08s/it]\u001b[A\n",
            "Training VisionTransformer Fold 4:  40%|████      | 4/10 [27:40<41:14, 412.42s/it]\u001b[A\n",
            "Training VisionTransformer Fold 4:  50%|█████     | 5/10 [34:30<34:16, 411.37s/it]\u001b[A\n",
            "Training VisionTransformer Fold 4:  60%|██████    | 6/10 [41:18<27:21, 410.30s/it]\u001b[A\n",
            "Training VisionTransformer Fold 4:  70%|███████   | 7/10 [48:07<20:29, 409.97s/it]\u001b[A\n",
            "Training VisionTransformer Fold 4:  80%|████████  | 8/10 [54:57<13:39, 409.93s/it]\u001b[A\n",
            "Training VisionTransformer Fold 4:  90%|█████████ | 9/10 [1:01:46<06:49, 409.62s/it]\u001b[A\n",
            "Training VisionTransformer Fold 4: 100%|██████████| 10/10 [1:08:36<00:00, 411.67s/it]\n"
          ]
        },
        {
          "output_type": "stream",
          "name": "stdout",
          "text": [
            "Fold 5/5 for VisionTransformer\n"
          ]
        },
        {
          "output_type": "stream",
          "name": "stderr",
          "text": [
            "\n",
            "Training VisionTransformer Fold 5:   0%|          | 0/10 [00:00<?, ?it/s]\u001b[A\n",
            "Training VisionTransformer Fold 5:  10%|█         | 1/10 [07:09<1:04:22, 429.20s/it]\u001b[A\n",
            "Training VisionTransformer Fold 5:  20%|██        | 2/10 [13:59<55:43, 417.91s/it]  \u001b[A\n",
            "Training VisionTransformer Fold 5:  30%|███       | 3/10 [20:49<48:21, 414.48s/it]\u001b[A\n",
            "Training VisionTransformer Fold 5:  40%|████      | 4/10 [27:38<41:14, 412.45s/it]\u001b[A\n",
            "Training VisionTransformer Fold 5:  50%|█████     | 5/10 [34:27<34:15, 411.18s/it]\u001b[A\n",
            "Training VisionTransformer Fold 5:  60%|██████    | 6/10 [41:17<27:22, 410.67s/it]\u001b[A\n",
            "Training VisionTransformer Fold 5:  70%|███████   | 7/10 [48:07<20:31, 410.49s/it]\u001b[A\n",
            "Training VisionTransformer Fold 5:  80%|████████  | 8/10 [54:57<13:40, 410.21s/it]\u001b[A\n",
            "Training VisionTransformer Fold 5:  90%|█████████ | 9/10 [1:01:46<06:49, 409.93s/it]\u001b[A\n",
            "Training VisionTransformer Fold 5: 100%|██████████| 10/10 [1:08:36<00:00, 411.61s/it]\n",
            "Training Models: 100%|██████████| 4/4 [7:17:01<00:00, 6555.30s/it]\n"
          ]
        }
      ]
    },
    {
      "cell_type": "code",
      "source": [
        "plt.figure()\n",
        "for model_name, (train_losses, test_losses, train_accs, test_accs, fprs, tprs, roc_aucs) in results.items():\n",
        "    plt.plot(test_accs, label=model_name)\n",
        "plt.legend()\n",
        "plt.title(\"Accuracy\")\n",
        "plt.show()\n"
      ],
      "metadata": {
        "id": "30BF81eBKn1k",
        "colab": {
          "base_uri": "https://localhost:8080/",
          "height": 452
        },
        "outputId": "e7a50c8b-8b72-4a29-90b0-81dbede85e7c"
      },
      "execution_count": 37,
      "outputs": [
        {
          "output_type": "display_data",
          "data": {
            "text/plain": [
              "<Figure size 640x480 with 1 Axes>"
            ],
            "image/png": "[encoded data removed]"
          },
          "metadata": {}
        }
      ]
    },
    {
      "cell_type": "code",
      "source": [
        "plt.figure()\n",
        "for model_name, (train_losses, test_losses, train_accs, test_accs, fprs, tprs, roc_aucs) in results.items():\n",
        "    plt.plot(test_losses, label=model_name)\n",
        "plt.legend()\n",
        "plt.title(\"Loss\")\n",
        "plt.show()"
      ],
      "metadata": {
        "colab": {
          "base_uri": "https://localhost:8080/",
          "height": 452
        },
        "id": "vvPgaNMMOuCB",
        "outputId": "47253291-3a27-4266-9b7c-60d5245c60f1"
      },
      "execution_count": 38,
      "outputs": [
        {
          "output_type": "display_data",
          "data": {
            "text/plain": [
              "<Figure size 640x480 with 1 Axes>"
            ],
            "image/png": "[encoded data removed]"
          },
          "metadata": {}
        }
      ]
    },
    {
      "cell_type": "code",
      "source": [
        "plt.figure()\n",
        "for model_name, (train_losses, test_losses, train_accs, test_accs, fprs, tprs, roc_aucs) in results.items():\n",
        "    plt.plot(fprs[-1], tprs[-1], label=f\"{model_name} (AUC={roc_aucs[-1]:.2f})\")\n",
        "plt.legend()\n",
        "plt.title(\"ROC Curve\")\n",
        "plt.xlabel(\"False Positive Rate\")\n",
        "plt.ylabel(\"True Positive Rate\")\n",
        "plt.show()\n"
      ],
      "metadata": {
        "colab": {
          "base_uri": "https://localhost:8080/",
          "height": 472
        },
        "id": "lsNz_4u-Ow80",
        "outputId": "0fb7b649-4049-4525-8398-56310155fcad"
      },
      "execution_count": 39,
      "outputs": [
        {
          "output_type": "display_data",
          "data": {
            "text/plain": [
              "<Figure size 640x480 with 1 Axes>"
            ],
            "image/png": "[encoded data removed]"
          },
          "metadata": {}
        }
      ]
    },
    {
      "cell_type": "code",
      "source": [
        "!pip install onnx-tf"
      ],
      "metadata": {
        "colab": {
          "base_uri": "https://localhost:8080/"
        },
        "id": "CT9FcxBHdIf6",
        "outputId": "91b2fcb0-aac8-4f43-9306-30a0ec87720f"
      },
      "execution_count": 49,
      "outputs": [
        {
          "output_type": "stream",
          "name": "stdout",
          "text": [
            "Collecting onnx-tf\n",
            "  Downloading onnx_tf-1.10.0-py3-none-any.whl.metadata (510 bytes)\n",
            "Requirement already satisfied: onnx>=1.10.2 in /usr/local/lib/python3.11/dist-packages (from onnx-tf) (1.17.0)\n",
            "Requirement already satisfied: PyYAML in /usr/local/lib/python3.11/dist-packages (from onnx-tf) (6.0.2)\n",
            "Collecting tensorflow-addons (from onnx-tf)\n",
            "  Downloading tensorflow_addons-0.23.0-cp311-cp311-manylinux_2_17_x86_64.manylinux2014_x86_64.whl.metadata (1.8 kB)\n",
            "Requirement already satisfied: numpy>=1.20 in /usr/local/lib/python3.11/dist-packages (from onnx>=1.10.2->onnx-tf) (1.26.4)\n",
            "Requirement already satisfied: protobuf>=3.20.2 in /usr/local/lib/python3.11/dist-packages (from onnx>=1.10.2->onnx-tf) (4.25.6)\n",
            "Requirement already satisfied: packaging in /usr/local/lib/python3.11/dist-packages (from tensorflow-addons->onnx-tf) (24.2)\n",
            "Collecting typeguard<3.0.0,>=2.7 (from tensorflow-addons->onnx-tf)\n",
            "  Downloading typeguard-2.13.3-py3-none-any.whl.metadata (3.6 kB)\n",
            "Downloading onnx_tf-1.10.0-py3-none-any.whl (226 kB)\n",
            "\u001b[2K   \u001b[90m━━━━━━━━━━━━━━━━━━━━━━━━━━━━━━━━━━━━━━━━\u001b[0m \u001b[32m226.1/226.1 kB\u001b[0m \u001b[31m11.1 MB/s\u001b[0m eta \u001b[36m0:00:00\u001b[0m\n",
            "\u001b[?25hDownloading tensorflow_addons-0.23.0-cp311-cp311-manylinux_2_17_x86_64.manylinux2014_x86_64.whl (611 kB)\n",
            "\u001b[2K   \u001b[90m━━━━━━━━━━━━━━━━━━━━━━━━━━━━━━━━━━━━━━━━\u001b[0m \u001b[32m611.8/611.8 kB\u001b[0m \u001b[31m25.7 MB/s\u001b[0m eta \u001b[36m0:00:00\u001b[0m\n",
            "\u001b[?25hDownloading typeguard-2.13.3-py3-none-any.whl (17 kB)\n",
            "Installing collected packages: typeguard, tensorflow-addons, onnx-tf\n",
            "  Attempting uninstall: typeguard\n",
            "    Found existing installation: typeguard 4.4.2\n",
            "    Uninstalling typeguard-4.4.2:\n",
            "      Successfully uninstalled typeguard-4.4.2\n",
            "\u001b[31mERROR: pip's dependency resolver does not currently take into account all the packages that are installed. This behaviour is the source of the following dependency conflicts.\n",
            "inflect 7.5.0 requires typeguard>=4.0.1, but you have typeguard 2.13.3 which is incompatible.\u001b[0m\u001b[31m\n",
            "\u001b[0mSuccessfully installed onnx-tf-1.10.0 tensorflow-addons-0.23.0 typeguard-2.13.3\n"
          ]
        }
      ]
    },
    {
      "cell_type": "code",
      "source": [
        "!pip install keras"
      ],
      "metadata": {
        "colab": {
          "base_uri": "https://localhost:8080/"
        },
        "id": "nWVZbx1bdjAg",
        "outputId": "171cf84f-6e44-405e-f16f-34c97f8fa808"
      },
      "execution_count": 53,
      "outputs": [
        {
          "output_type": "stream",
          "name": "stdout",
          "text": [
            "Requirement already satisfied: keras in /usr/local/lib/python3.11/dist-packages (3.8.0)\n",
            "Requirement already satisfied: absl-py in /usr/local/lib/python3.11/dist-packages (from keras) (1.4.0)\n",
            "Requirement already satisfied: numpy in /usr/local/lib/python3.11/dist-packages (from keras) (1.26.4)\n",
            "Requirement already satisfied: rich in /usr/local/lib/python3.11/dist-packages (from keras) (13.9.4)\n",
            "Requirement already satisfied: namex in /usr/local/lib/python3.11/dist-packages (from keras) (0.0.8)\n",
            "Requirement already satisfied: h5py in /usr/local/lib/python3.11/dist-packages (from keras) (3.12.1)\n",
            "Requirement already satisfied: optree in /usr/local/lib/python3.11/dist-packages (from keras) (0.14.1)\n",
            "Requirement already satisfied: ml-dtypes in /usr/local/lib/python3.11/dist-packages (from keras) (0.4.1)\n",
            "Requirement already satisfied: packaging in /usr/local/lib/python3.11/dist-packages (from keras) (24.2)\n",
            "Requirement already satisfied: typing-extensions>=4.5.0 in /usr/local/lib/python3.11/dist-packages (from optree->keras) (4.12.2)\n",
            "Requirement already satisfied: markdown-it-py>=2.2.0 in /usr/local/lib/python3.11/dist-packages (from rich->keras) (3.0.0)\n",
            "Requirement already satisfied: pygments<3.0.0,>=2.13.0 in /usr/local/lib/python3.11/dist-packages (from rich->keras) (2.18.0)\n",
            "Requirement already satisfied: mdurl~=0.1 in /usr/local/lib/python3.11/dist-packages (from markdown-it-py>=2.2.0->rich->keras) (0.1.2)\n"
          ]
        }
      ]
    },
    {
      "cell_type": "code",
      "source": [
        "!pip install --upgrade tensorflow"
      ],
      "metadata": {
        "colab": {
          "base_uri": "https://localhost:8080/",
          "height": 1000
        },
        "id": "9mgHKEBbdzVS",
        "outputId": "e939993b-e722-43d2-dad9-faf8b8f93932"
      },
      "execution_count": 55,
      "outputs": [
        {
          "output_type": "stream",
          "name": "stdout",
          "text": [
            "Requirement already satisfied: tensorflow in /usr/local/lib/python3.11/dist-packages (2.18.0)\n",
            "Collecting tensorflow\n",
            "  Downloading tensorflow-2.19.0-cp311-cp311-manylinux_2_17_x86_64.manylinux2014_x86_64.whl.metadata (4.1 kB)\n",
            "Requirement already satisfied: absl-py>=1.0.0 in /usr/local/lib/python3.11/dist-packages (from tensorflow) (1.4.0)\n",
            "Requirement already satisfied: astunparse>=1.6.0 in /usr/local/lib/python3.11/dist-packages (from tensorflow) (1.6.3)\n",
            "Requirement already satisfied: flatbuffers>=24.3.25 in /usr/local/lib/python3.11/dist-packages (from tensorflow) (25.2.10)\n",
            "Requirement already satisfied: gast!=0.5.0,!=0.5.1,!=0.5.2,>=0.2.1 in /usr/local/lib/python3.11/dist-packages (from tensorflow) (0.6.0)\n",
            "Requirement already satisfied: google-pasta>=0.1.1 in /usr/local/lib/python3.11/dist-packages (from tensorflow) (0.2.0)\n",
            "Requirement already satisfied: libclang>=13.0.0 in /usr/local/lib/python3.11/dist-packages (from tensorflow) (18.1.1)\n",
            "Requirement already satisfied: opt-einsum>=2.3.2 in /usr/local/lib/python3.11/dist-packages (from tensorflow) (3.4.0)\n",
            "Requirement already satisfied: packaging in /usr/local/lib/python3.11/dist-packages (from tensorflow) (24.2)\n",
            "Requirement already satisfied: protobuf!=4.21.0,!=4.21.1,!=4.21.2,!=4.21.3,!=4.21.4,!=4.21.5,<6.0.0dev,>=3.20.3 in /usr/local/lib/python3.11/dist-packages (from tensorflow) (4.25.6)\n",
            "Requirement already satisfied: requests<3,>=2.21.0 in /usr/local/lib/python3.11/dist-packages (from tensorflow) (2.32.3)\n",
            "Requirement already satisfied: setuptools in /usr/local/lib/python3.11/dist-packages (from tensorflow) (75.1.0)\n",
            "Requirement already satisfied: six>=1.12.0 in /usr/local/lib/python3.11/dist-packages (from tensorflow) (1.17.0)\n",
            "Requirement already satisfied: termcolor>=1.1.0 in /usr/local/lib/python3.11/dist-packages (from tensorflow) (2.5.0)\n",
            "Requirement already satisfied: typing-extensions>=3.6.6 in /usr/local/lib/python3.11/dist-packages (from tensorflow) (4.12.2)\n",
            "Requirement already satisfied: wrapt>=1.11.0 in /usr/local/lib/python3.11/dist-packages (from tensorflow) (1.17.2)\n",
            "Requirement already satisfied: grpcio<2.0,>=1.24.3 in /usr/local/lib/python3.11/dist-packages (from tensorflow) (1.70.0)\n",
            "Collecting tensorboard~=2.19.0 (from tensorflow)\n",
            "  Downloading tensorboard-2.19.0-py3-none-any.whl.metadata (1.8 kB)\n",
            "Requirement already satisfied: keras>=3.5.0 in /usr/local/lib/python3.11/dist-packages (from tensorflow) (3.8.0)\n",
            "Requirement already satisfied: numpy<2.2.0,>=1.26.0 in /usr/local/lib/python3.11/dist-packages (from tensorflow) (1.26.4)\n",
            "Requirement already satisfied: h5py>=3.11.0 in /usr/local/lib/python3.11/dist-packages (from tensorflow) (3.12.1)\n",
            "Collecting ml-dtypes<1.0.0,>=0.5.1 (from tensorflow)\n",
            "  Downloading ml_dtypes-0.5.1-cp311-cp311-manylinux_2_17_x86_64.manylinux2014_x86_64.whl.metadata (21 kB)\n",
            "Requirement already satisfied: tensorflow-io-gcs-filesystem>=0.23.1 in /usr/local/lib/python3.11/dist-packages (from tensorflow) (0.37.1)\n",
            "Requirement already satisfied: wheel<1.0,>=0.23.0 in /usr/local/lib/python3.11/dist-packages (from astunparse>=1.6.0->tensorflow) (0.45.1)\n",
            "Requirement already satisfied: rich in /usr/local/lib/python3.11/dist-packages (from keras>=3.5.0->tensorflow) (13.9.4)\n",
            "Requirement already satisfied: namex in /usr/local/lib/python3.11/dist-packages (from keras>=3.5.0->tensorflow) (0.0.8)\n",
            "Requirement already satisfied: optree in /usr/local/lib/python3.11/dist-packages (from keras>=3.5.0->tensorflow) (0.14.1)\n",
            "Requirement already satisfied: charset-normalizer<4,>=2 in /usr/local/lib/python3.11/dist-packages (from requests<3,>=2.21.0->tensorflow) (3.4.1)\n",
            "Requirement already satisfied: idna<4,>=2.5 in /usr/local/lib/python3.11/dist-packages (from requests<3,>=2.21.0->tensorflow) (3.10)\n",
            "Requirement already satisfied: urllib3<3,>=1.21.1 in /usr/local/lib/python3.11/dist-packages (from requests<3,>=2.21.0->tensorflow) (2.3.0)\n",
            "Requirement already satisfied: certifi>=2017.4.17 in /usr/local/lib/python3.11/dist-packages (from requests<3,>=2.21.0->tensorflow) (2025.1.31)\n",
            "Requirement already satisfied: markdown>=2.6.8 in /usr/local/lib/python3.11/dist-packages (from tensorboard~=2.19.0->tensorflow) (3.7)\n",
            "Requirement already satisfied: tensorboard-data-server<0.8.0,>=0.7.0 in /usr/local/lib/python3.11/dist-packages (from tensorboard~=2.19.0->tensorflow) (0.7.2)\n",
            "Requirement already satisfied: werkzeug>=1.0.1 in /usr/local/lib/python3.11/dist-packages (from tensorboard~=2.19.0->tensorflow) (3.1.3)\n",
            "Requirement already satisfied: MarkupSafe>=2.1.1 in /usr/local/lib/python3.11/dist-packages (from werkzeug>=1.0.1->tensorboard~=2.19.0->tensorflow) (3.0.2)\n",
            "Requirement already satisfied: markdown-it-py>=2.2.0 in /usr/local/lib/python3.11/dist-packages (from rich->keras>=3.5.0->tensorflow) (3.0.0)\n",
            "Requirement already satisfied: pygments<3.0.0,>=2.13.0 in /usr/local/lib/python3.11/dist-packages (from rich->keras>=3.5.0->tensorflow) (2.18.0)\n",
            "Requirement already satisfied: mdurl~=0.1 in /usr/local/lib/python3.11/dist-packages (from markdown-it-py>=2.2.0->rich->keras>=3.5.0->tensorflow) (0.1.2)\n",
            "Downloading tensorflow-2.19.0-cp311-cp311-manylinux_2_17_x86_64.manylinux2014_x86_64.whl (644.9 MB)\n",
            "\u001b[2K   \u001b[90m━━━━━━━━━━━━━━━━━━━━━━━━━━━━━━━━━━━━━━━━\u001b[0m \u001b[32m644.9/644.9 MB\u001b[0m \u001b[31m847.2 kB/s\u001b[0m eta \u001b[36m0:00:00\u001b[0m\n",
            "\u001b[?25hDownloading ml_dtypes-0.5.1-cp311-cp311-manylinux_2_17_x86_64.manylinux2014_x86_64.whl (4.7 MB)\n",
            "\u001b[2K   \u001b[90m━━━━━━━━━━━━━━━━━━━━━━━━━━━━━━━━━━━━━━━━\u001b[0m \u001b[32m4.7/4.7 MB\u001b[0m \u001b[31m90.1 MB/s\u001b[0m eta \u001b[36m0:00:00\u001b[0m\n",
            "\u001b[?25hDownloading tensorboard-2.19.0-py3-none-any.whl (5.5 MB)\n",
            "\u001b[2K   \u001b[90m━━━━━━━━━━━━━━━━━━━━━━━━━━━━━━━━━━━━━━━━\u001b[0m \u001b[32m5.5/5.5 MB\u001b[0m \u001b[31m84.7 MB/s\u001b[0m eta \u001b[36m0:00:00\u001b[0m\n",
            "\u001b[?25hInstalling collected packages: ml-dtypes, tensorboard, tensorflow\n",
            "  Attempting uninstall: ml-dtypes\n",
            "    Found existing installation: ml-dtypes 0.4.1\n",
            "    Uninstalling ml-dtypes-0.4.1:\n",
            "      Successfully uninstalled ml-dtypes-0.4.1\n",
            "  Attempting uninstall: tensorboard\n",
            "    Found existing installation: tensorboard 2.18.0\n",
            "    Uninstalling tensorboard-2.18.0:\n",
            "      Successfully uninstalled tensorboard-2.18.0\n",
            "  Attempting uninstall: tensorflow\n",
            "    Found existing installation: tensorflow 2.18.0\n",
            "    Uninstalling tensorflow-2.18.0:\n",
            "      Successfully uninstalled tensorflow-2.18.0\n",
            "\u001b[31mERROR: pip's dependency resolver does not currently take into account all the packages that are installed. This behaviour is the source of the following dependency conflicts.\n",
            "tf-keras 2.18.0 requires tensorflow<2.19,>=2.18, but you have tensorflow 2.19.0 which is incompatible.\n",
            "tensorflow-text 2.18.1 requires tensorflow<2.19,>=2.18.0, but you have tensorflow 2.19.0 which is incompatible.\u001b[0m\u001b[31m\n",
            "\u001b[0mSuccessfully installed ml-dtypes-0.5.1 tensorboard-2.19.0 tensorflow-2.19.0\n"
          ]
        },
        {
          "output_type": "display_data",
          "data": {
            "application/vnd.colab-display-data+json": {
              "pip_warning": {
                "packages": [
                  "ml_dtypes",
                  "tensorflow"
                ]
              },
              "id": "cb382c9a713f4c2c926580bb781977e1"
            }
          },
          "metadata": {}
        }
      ]
    },
    {
      "cell_type": "code",
      "source": [
        "model_mapping = {\n",
        "    \"MobileNetV2\": models.mobilenet_v2,\n",
        "    \"MobileNetV3\": models.mobilenet_v3_large,\n",
        "    \"ShuffleNetV2\": models.shufflenet_v2_x1_0,\n",
        "    \"VisionTransformer\": models.vit_b_16\n",
        "}\n",
        "\n",
        "for model_name, model_fn in model_mapping.items():\n",
        "    model_path = f\"models/{model_name}/final_model.pth\"\n",
        "    if os.path.exists(model_path):\n",
        "        model = model_fn(weights=None)\n",
        "        model.load_state_dict(torch.load(model_path, map_location=torch.device('cpu'), weights_only=True))\n",
        "        model.eval()\n",
        "\n",
        "        dummy_input = torch.randn(1, 3, 224, 224)\n",
        "        onnx_filename = f\"models/{model_name}/model.onnx\"\n",
        "        tflite_filename = f\"models/{model_name}/model.tflite\"\n",
        "\n",
        "        torch.onnx.export(model, dummy_input, onnx_filename, opset_version=16)\n",
        "\n",
        "        onnx_model = onnx.load(onnx_filename)\n",
        "        onnx.checker.check_model(onnx_model)\n",
        "\n",
        "        # Конвертация ONNX в TFLite с использованием ONNX Runtime\n",
        "        try:\n",
        "            import onnx_tf\n",
        "            from onnx_tf.backend import prepare\n",
        "            tf_rep = prepare(onnx_model)\n",
        "            tf_rep.export_graph(f\"models/{model_name}/model_saved_model\")\n",
        "\n",
        "            converter = tf.lite.TFLiteConverter.from_saved_model(f\"models/{model_name}/model_saved_model\")\n",
        "            tflite_model = converter.convert()\n",
        "            with open(tflite_filename, \"wb\") as f:\n",
        "                f.write(tflite_model)\n",
        "\n",
        "            size_mb = os.path.getsize(tflite_filename) / (1024 * 1024)\n",
        "            print(f\"{model_name} TFLite size: {size_mb:.2f} MB\")\n",
        "\n",
        "        except Exception as e:\n",
        "            print(f\"Error converting {model_name} model to TFLite: {e}\")\n",
        "    else:\n",
        "        print(f\"Warning: {model_path} not found. Skipping conversion for {model_name}.\")"
      ],
      "metadata": {
        "id": "o75LFmwtKU5g"
      },
      "execution_count": null,
      "outputs": []
    }
  ]
}