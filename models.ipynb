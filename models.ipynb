{
  "nbformat": 4,
  "nbformat_minor": 0,
  "metadata": {
    "colab": {
      "provenance": [],
      "machine_shape": "hm",
      "gpuType": "A100"
    },
    "kernelspec": {
      "name": "python3",
      "display_name": "Python 3"
    },
    "language_info": {
      "name": "python"
    },
    "accelerator": "GPU"
  },
  "cells": [
    {
      "cell_type": "code",
      "source": [
        "!unzip data.zip\n",
        "%ls"
      ],
      "metadata": {
        "colab": {
          "base_uri": "https://localhost:8080/"
        },
        "id": "taM7grXVSh1D",
        "outputId": "f49f61e7-1497-42cc-fdc2-e2360337f523",
        "collapsed": true
      },
      "execution_count": 1,
      "outputs": [
        {
          "output_type": "stream",
          "name": "stdout",
          "text": [
            "Archive:  data.zip\n",
            "   creating: data/\n",
            "   creating: data/normal/\n",
            "  inflating: data/normal/1.jpg       \n",
            "  inflating: data/normal/10.jpg      \n",
            "  inflating: data/normal/100.jpg     \n",
            "  inflating: data/normal/11.jpg      \n",
            "  inflating: data/normal/12.jpg      \n",
            "  inflating: data/normal/13.jpg      \n",
            "  inflating: data/normal/14.jpg      \n",
            "  inflating: data/normal/15.jpg      \n",
            "  inflating: data/normal/16.jpg      \n",
            "  inflating: data/normal/17.jpg      \n",
            "  inflating: data/normal/18.jpg      \n",
            "  inflating: data/normal/19.jpg      \n",
            "  inflating: data/normal/2.jpg       \n",
            "  inflating: data/normal/20.jpg      \n",
            "  inflating: data/normal/21.jpg      \n",
            "  inflating: data/normal/22.jpg      \n",
            "  inflating: data/normal/23.jpg      \n",
            "  inflating: data/normal/24.jpg      \n",
            "  inflating: data/normal/25.jpg      \n",
            "  inflating: data/normal/26.jpg      \n",
            "  inflating: data/normal/27.jpg      \n",
            "  inflating: data/normal/28.jpg      \n",
            "  inflating: data/normal/29.jpg      \n",
            "  inflating: data/normal/3.jpg       \n",
            "  inflating: data/normal/34.jpg      \n",
            "  inflating: data/normal/35.jpg      \n",
            "  inflating: data/normal/36.jpg      \n",
            "  inflating: data/normal/37.jpg      \n",
            "  inflating: data/normal/38.jpg      \n",
            "  inflating: data/normal/39.jpg      \n",
            "  inflating: data/normal/4.jpg       \n",
            "  inflating: data/normal/40.jpg      \n",
            "  inflating: data/normal/41.jpg      \n",
            "  inflating: data/normal/42.jpg      \n",
            "  inflating: data/normal/43.jpg      \n",
            "  inflating: data/normal/44.jpg      \n",
            "  inflating: data/normal/45.jpg      \n",
            "  inflating: data/normal/46.jpg      \n",
            "  inflating: data/normal/47.jpg      \n",
            "  inflating: data/normal/48.jpg      \n",
            "  inflating: data/normal/49.jpg      \n",
            "  inflating: data/normal/5.jpg       \n",
            "  inflating: data/normal/50.jpg      \n",
            "  inflating: data/normal/51.jpg      \n",
            "  inflating: data/normal/52.jpg      \n",
            "  inflating: data/normal/53.jpg      \n",
            "  inflating: data/normal/54.jpg      \n",
            "  inflating: data/normal/55.jpg      \n",
            "  inflating: data/normal/56.jpg      \n",
            "  inflating: data/normal/57.jpg      \n",
            "  inflating: data/normal/58.jpg      \n",
            "  inflating: data/normal/59.jpg      \n",
            "  inflating: data/normal/6.jpg       \n",
            "  inflating: data/normal/60.jpg      \n",
            "  inflating: data/normal/61.jpg      \n",
            "  inflating: data/normal/62.jpg      \n",
            "  inflating: data/normal/63.jpg      \n",
            "  inflating: data/normal/64.jpg      \n",
            "  inflating: data/normal/65.jpg      \n",
            "  inflating: data/normal/66.jpg      \n",
            "  inflating: data/normal/67.jpg      \n",
            "  inflating: data/normal/68.jpg      \n",
            "  inflating: data/normal/69.jpg      \n",
            "  inflating: data/normal/7.jpg       \n",
            "  inflating: data/normal/70.jpg      \n",
            "  inflating: data/normal/71.jpg      \n",
            "  inflating: data/normal/72.jpg      \n",
            "  inflating: data/normal/73.jpg      \n",
            "  inflating: data/normal/74.jpg      \n",
            "  inflating: data/normal/75.jpg      \n",
            "  inflating: data/normal/76.jpg      \n",
            "  inflating: data/normal/77.jpg      \n",
            "  inflating: data/normal/78.jpg      \n",
            "  inflating: data/normal/79.jpg      \n",
            "  inflating: data/normal/8.jpg       \n",
            "  inflating: data/normal/80.jpg      \n",
            "  inflating: data/normal/81.jpg      \n",
            "  inflating: data/normal/82.jpg      \n",
            "  inflating: data/normal/83.jpg      \n",
            "  inflating: data/normal/84.jpg      \n",
            "  inflating: data/normal/85.jpg      \n",
            "  inflating: data/normal/86.jpg      \n",
            "  inflating: data/normal/87.jpg      \n",
            "  inflating: data/normal/88.jpg      \n",
            "  inflating: data/normal/89.jpg      \n",
            "  inflating: data/normal/9.jpg       \n",
            "  inflating: data/normal/90.jpg      \n",
            "  inflating: data/normal/91.jpg      \n",
            "  inflating: data/normal/92.jpg      \n",
            "  inflating: data/normal/93.jpg      \n",
            "  inflating: data/normal/94.jpg      \n",
            "  inflating: data/normal/95.jpg      \n",
            "  inflating: data/normal/96.jpg      \n",
            "  inflating: data/normal/97.jpg      \n",
            "  inflating: data/normal/98.jpg      \n",
            "  inflating: data/normal/99.jpg      \n",
            "   creating: data/phishing/\n",
            "  inflating: data/phishing/000081.jpg  \n",
            "  inflating: data/phishing/000090.jpg  \n",
            "  inflating: data/phishing/000093.jpg  \n",
            "  inflating: data/phishing/000121.jpg  \n",
            "  inflating: data/phishing/000126.jpg  \n",
            "  inflating: data/phishing/000127.jpg  \n",
            "  inflating: data/phishing/1.jpg     \n",
            "  inflating: data/phishing/10.jpg    \n",
            "  inflating: data/phishing/100.jpg   \n",
            "  inflating: data/phishing/101.jpg   \n",
            "  inflating: data/phishing/102.jpg   \n",
            "  inflating: data/phishing/103.jpg   \n",
            "  inflating: data/phishing/104.jpg   \n",
            "  inflating: data/phishing/105.jpg   \n",
            "  inflating: data/phishing/106.jpg   \n",
            " extracting: data/phishing/107.jpg   \n",
            "  inflating: data/phishing/108.jpg   \n",
            "  inflating: data/phishing/109.jpg   \n",
            "  inflating: data/phishing/11.jpg    \n",
            "  inflating: data/phishing/110.jpg   \n",
            "  inflating: data/phishing/111.jpg   \n",
            "  inflating: data/phishing/112.jpg   \n",
            "  inflating: data/phishing/113.jpg   \n",
            "  inflating: data/phishing/114.jpg   \n",
            "  inflating: data/phishing/115.jpg   \n",
            "  inflating: data/phishing/116.jpg   \n",
            "  inflating: data/phishing/117.jpg   \n",
            "  inflating: data/phishing/118.jpg   \n",
            "  inflating: data/phishing/119.jpg   \n",
            "  inflating: data/phishing/12.jpg    \n",
            "  inflating: data/phishing/120.jpg   \n",
            "  inflating: data/phishing/121.jpg   \n",
            "  inflating: data/phishing/122.jpg   \n",
            "  inflating: data/phishing/123.jpg   \n",
            " extracting: data/phishing/124.jpg   \n",
            "  inflating: data/phishing/125.jpg   \n",
            "  inflating: data/phishing/126.jpg   \n",
            "  inflating: data/phishing/127.jpg   \n",
            "  inflating: data/phishing/128.jpg   \n",
            "  inflating: data/phishing/129.jpg   \n",
            "  inflating: data/phishing/13.jpg    \n",
            "  inflating: data/phishing/130.jpg   \n",
            "  inflating: data/phishing/131.jpg   \n",
            " extracting: data/phishing/132.jpg   \n",
            "  inflating: data/phishing/133.jpg   \n",
            "  inflating: data/phishing/134.jpg   \n",
            "  inflating: data/phishing/135.jpg   \n",
            "  inflating: data/phishing/14.jpg    \n",
            "  inflating: data/phishing/15.jpg    \n",
            "  inflating: data/phishing/16.jpg    \n",
            "  inflating: data/phishing/17.jpg    \n",
            "  inflating: data/phishing/18.jpg    \n",
            "  inflating: data/phishing/19.jpg    \n",
            "  inflating: data/phishing/2.jpg     \n",
            "  inflating: data/phishing/20.jpg    \n",
            "  inflating: data/phishing/21.jpg    \n",
            "  inflating: data/phishing/22.jpg    \n",
            "  inflating: data/phishing/23.jpg    \n",
            "  inflating: data/phishing/24.jpg    \n",
            "  inflating: data/phishing/25.jpg    \n",
            "  inflating: data/phishing/26.jpg    \n",
            "  inflating: data/phishing/27.jpg    \n",
            "  inflating: data/phishing/28.jpg    \n",
            "  inflating: data/phishing/29.jpg    \n",
            "  inflating: data/phishing/3.jpg     \n",
            "  inflating: data/phishing/30.jpg    \n",
            "  inflating: data/phishing/31.jpg    \n",
            "  inflating: data/phishing/32.jpg    \n",
            "  inflating: data/phishing/33.jpg    \n",
            "  inflating: data/phishing/34.jpg    \n",
            "  inflating: data/phishing/35.jpg    \n",
            "  inflating: data/phishing/36.jpg    \n",
            "  inflating: data/phishing/37.jpg    \n",
            "  inflating: data/phishing/38.jpg    \n",
            "  inflating: data/phishing/39.jpg    \n",
            "  inflating: data/phishing/4.jpg     \n",
            "  inflating: data/phishing/40.jpg    \n",
            "  inflating: data/phishing/41.jpg    \n",
            "  inflating: data/phishing/42.jpg    \n",
            "  inflating: data/phishing/43.jpg    \n",
            "  inflating: data/phishing/44.jpg    \n",
            "  inflating: data/phishing/45.jpg    \n",
            "  inflating: data/phishing/46.jpg    \n",
            "  inflating: data/phishing/47.jpg    \n",
            "  inflating: data/phishing/48.jpg    \n",
            "  inflating: data/phishing/49.jpg    \n",
            "  inflating: data/phishing/5.jpg     \n",
            "  inflating: data/phishing/50.jpg    \n",
            "  inflating: data/phishing/51.jpg    \n",
            "  inflating: data/phishing/52.jpg    \n",
            "  inflating: data/phishing/53.jpg    \n",
            "  inflating: data/phishing/54.jpg    \n",
            "  inflating: data/phishing/55.jpg    \n",
            "  inflating: data/phishing/56.jpg    \n",
            "  inflating: data/phishing/57.jpg    \n",
            "  inflating: data/phishing/58.jpg    \n",
            "  inflating: data/phishing/59.jpg    \n",
            "  inflating: data/phishing/6.jpg     \n",
            "  inflating: data/phishing/60.jpg    \n",
            "  inflating: data/phishing/61.jpg    \n",
            "  inflating: data/phishing/62.jpg    \n",
            "  inflating: data/phishing/63.jpg    \n",
            "  inflating: data/phishing/64.jpg    \n",
            "  inflating: data/phishing/65.jpg    \n",
            "  inflating: data/phishing/66.jpg    \n",
            "  inflating: data/phishing/67.jpg    \n",
            "  inflating: data/phishing/68.jpg    \n",
            "  inflating: data/phishing/69.jpg    \n",
            "  inflating: data/phishing/7.jpg     \n",
            " extracting: data/phishing/70.jpg    \n",
            "  inflating: data/phishing/71.jpg    \n",
            "  inflating: data/phishing/72.jpg    \n",
            " extracting: data/phishing/73.jpg    \n",
            "  inflating: data/phishing/74.jpg    \n",
            "  inflating: data/phishing/75.jpg    \n",
            "  inflating: data/phishing/77.jpg    \n",
            " extracting: data/phishing/78.jpg    \n",
            " extracting: data/phishing/79.jpg    \n",
            "  inflating: data/phishing/8.jpg     \n",
            " extracting: data/phishing/80.jpg    \n",
            "  inflating: data/phishing/81.jpg    \n",
            "  inflating: data/phishing/82.jpg    \n",
            "  inflating: data/phishing/83.jpg    \n",
            "  inflating: data/phishing/84.jpg    \n",
            "  inflating: data/phishing/85.jpg    \n",
            "  inflating: data/phishing/86.jpg    \n",
            "  inflating: data/phishing/87.jpg    \n",
            "  inflating: data/phishing/88.jpg    \n",
            "  inflating: data/phishing/89.jpg    \n",
            "  inflating: data/phishing/9.jpg     \n",
            "  inflating: data/phishing/90.jpg    \n",
            "  inflating: data/phishing/91.jpg    \n",
            "  inflating: data/phishing/92.jpg    \n",
            "  inflating: data/phishing/93.jpg    \n",
            "  inflating: data/phishing/94.jpg    \n",
            " extracting: data/phishing/95.jpg    \n",
            " extracting: data/phishing/96.jpg    \n",
            "  inflating: data/phishing/97.jpg    \n",
            "  inflating: data/phishing/98.jpg    \n",
            "  inflating: data/phishing/99.jpg    \n",
            "\u001b[0m\u001b[01;34mdata\u001b[0m/  data.zip  \u001b[01;34msample_data\u001b[0m/\n"
          ]
        }
      ]
    },
    {
      "cell_type": "code",
      "source": [
        "import os\n",
        "import torch\n",
        "import torchvision.models as models\n",
        "import torch.nn as nn\n",
        "import torch.optim as optim\n",
        "import torch.utils.data as data\n",
        "import torchvision.transforms as transforms\n",
        "import numpy as np\n",
        "import matplotlib.pyplot as plt\n",
        "from torch.optim import lr_scheduler\n",
        "from torchvision.datasets import ImageFolder\n",
        "from torch.utils.data import DataLoader, random_split, Subset\n",
        "from sklearn.model_selection import KFold\n",
        "from sklearn.metrics import roc_curve, auc\n",
        "import tensorflow as tf\n",
        "\n",
        "\n",
        "device = torch.device(\"cuda:0\" if torch.cuda.is_available() else \"cpu\")"
      ],
      "metadata": {
        "id": "7LYTT7koJztQ"
      },
      "execution_count": 2,
      "outputs": []
    },
    {
      "cell_type": "code",
      "execution_count": 3,
      "metadata": {
        "id": "3STSGe4GR_h_",
        "collapsed": true
      },
      "outputs": [],
      "source": [
        "from PIL import Image\n",
        "\n",
        "class ImageDataset(torch.utils.data.Dataset):\n",
        "    def __init__(self, dataset_dir, transform=None):\n",
        "        self.dataset_dir = dataset_dir\n",
        "        self.transform = transform\n",
        "        self.images, self.labels = [], []\n",
        "        for dirpath, _, filenames in os.walk(dataset_dir):\n",
        "            for filename in filenames:\n",
        "                label = 0 if 'normal' in dirpath else 1\n",
        "                img_path = os.path.join(dirpath, filename)\n",
        "                self.images.append(img_path)\n",
        "                self.labels.append(label)\n",
        "\n",
        "    def __len__(self):\n",
        "        return len(self.labels)\n",
        "\n",
        "    def __getitem__(self, idx):\n",
        "        image = Image.open(self.images[idx]).convert('RGB')\n",
        "        if self.transform:\n",
        "            image = self.transform(image)\n",
        "        return image, self.labels[idx]"
      ]
    },
    {
      "cell_type": "code",
      "source": [
        "data_dir = '/content/data'\n",
        "dataset = ImageDataset(data_dir)\n",
        "dataloader = DataLoader(dataset, batch_size=4, shuffle=True)\n",
        "\n",
        "train_size = int(0.8 * len(dataset))\n",
        "test_size = len(dataset) - train_size\n",
        "train_dataset, test_dataset = random_split(dataset, [train_size, test_size])\n",
        "\n",
        "train_loader = DataLoader(train_dataset, batch_size=4, shuffle=True)\n",
        "test_loader = DataLoader(test_dataset, batch_size=4, shuffle=False)"
      ],
      "metadata": {
        "id": "fx59eXtHb4U6"
      },
      "execution_count": 4,
      "outputs": []
    },
    {
      "cell_type": "code",
      "source": [
        "train_transform = transforms.Compose([\n",
        "    transforms.Resize((256, 256)),\n",
        "    transforms.RandomResizedCrop(224),\n",
        "    transforms.RandomHorizontalFlip(),\n",
        "    transforms.RandomRotation(15),\n",
        "    transforms.ToTensor(),\n",
        "    transforms.Normalize([0.485, 0.456, 0.406], [0.229, 0.224, 0.225])\n",
        "])"
      ],
      "metadata": {
        "id": "fE6CJHreSmDP"
      },
      "execution_count": 5,
      "outputs": []
    },
    {
      "cell_type": "code",
      "source": [
        "val_transform = transforms.Compose([\n",
        "    transforms.Resize((224, 224)),\n",
        "    transforms.ToTensor(),\n",
        "    transforms.Normalize([0.485, 0.456, 0.406], [0.229, 0.224, 0.225])\n",
        "])"
      ],
      "metadata": {
        "id": "k2byYsOUjHFM"
      },
      "execution_count": 6,
      "outputs": []
    },
    {
      "cell_type": "code",
      "source": [
        "from tqdm import tqdm\n",
        "\n",
        "k_folds = 5\n",
        "kf = KFold(n_splits=k_folds, shuffle=True, random_state=42)\n",
        "\n",
        "def train_and_evaluate(model_name, model, dataset, train_transform, val_transform):\n",
        "    device = torch.device(\"cuda\" if torch.cuda.is_available() else \"cpu\")\n",
        "    model = model.to(device)\n",
        "    criterion = nn.CrossEntropyLoss()\n",
        "    optimizer = optim.Adam(model.parameters(), lr=0.001)\n",
        "    scheduler = lr_scheduler.StepLR(optimizer, step_size=7, gamma=0.1)\n",
        "\n",
        "    model_dir = f\"models/{model_name}\"\n",
        "    os.makedirs(model_dir, exist_ok=True)\n",
        "\n",
        "    all_train_losses, all_test_losses = [], []\n",
        "    all_train_accs, all_test_accs = [], []\n",
        "    all_fprs, all_tprs, roc_aucs = [], [], []\n",
        "\n",
        "    for fold, (train_idx, test_idx) in enumerate(kf.split(dataset)):\n",
        "        print(f'Fold {fold+1}/{k_folds} for {model_name}')\n",
        "        train_subset = Subset(dataset, train_idx)\n",
        "        test_subset = Subset(dataset, test_idx)\n",
        "\n",
        "        train_subset.dataset.transform = train_transform\n",
        "        test_subset.dataset.transform = val_transform\n",
        "\n",
        "        train_loader = DataLoader(train_subset, batch_size=32, shuffle=True)\n",
        "        test_loader = DataLoader(test_subset, batch_size=32, shuffle=False)\n",
        "\n",
        "        best_acc = 0.0\n",
        "        for epoch in tqdm(range(10), desc=f\"Training {model_name} Fold {fold+1}\"):\n",
        "            model.train()\n",
        "            running_loss, correct = 0.0, 0\n",
        "\n",
        "            for inputs, labels in train_loader:\n",
        "                inputs, labels = inputs.to(device), labels.to(device)\n",
        "                optimizer.zero_grad()\n",
        "                outputs = model(inputs)\n",
        "                loss = criterion(outputs, labels)\n",
        "                loss.backward()\n",
        "                optimizer.step()\n",
        "                running_loss += loss.item() * inputs.size(0)\n",
        "                correct += (outputs.argmax(1) == labels).sum().item()\n",
        "\n",
        "            epoch_acc = correct / len(train_subset)\n",
        "            all_train_losses.append(running_loss / len(train_subset))\n",
        "            all_train_accs.append(epoch_acc)\n",
        "\n",
        "            model.eval()\n",
        "            correct, total, test_loss = 0, 0, 0.0\n",
        "            all_preds, all_targets = [], []\n",
        "            with torch.no_grad():\n",
        "                for inputs, labels in test_loader:\n",
        "                    inputs, labels = inputs.to(device), labels.to(device)\n",
        "                    outputs = model(inputs)\n",
        "                    loss = criterion(outputs, labels)\n",
        "                    test_loss += loss.item() * inputs.size(0)\n",
        "                    correct += (outputs.argmax(1) == labels).sum().item()\n",
        "                    total += labels.size(0)\n",
        "                    all_preds.extend(outputs.softmax(1)[:, 1].cpu().numpy())\n",
        "                    all_targets.extend(labels.cpu().numpy())\n",
        "\n",
        "            epoch_test_acc = correct / total\n",
        "            all_test_losses.append(test_loss / total)\n",
        "            all_test_accs.append(epoch_test_acc)\n",
        "\n",
        "            fpr, tpr, _ = roc_curve(all_targets, all_preds)\n",
        "            all_fprs.append(fpr)\n",
        "            all_tprs.append(tpr)\n",
        "            roc_aucs.append(auc(fpr, tpr))\n",
        "\n",
        "            if epoch_test_acc > best_acc:\n",
        "                best_acc = epoch_test_acc\n",
        "                torch.save(model.state_dict(), f\"{model_dir}/best_model_fold_{fold}.pth\")\n",
        "\n",
        "    torch.save(model.state_dict(), f\"{model_dir}/final_model.pth\")\n",
        "\n",
        "    return all_train_losses, all_test_losses, all_train_accs, all_test_accs, all_fprs, all_tprs, roc_aucs"
      ],
      "metadata": {
        "id": "7b60DPGFKB1w"
      },
      "execution_count": 7,
      "outputs": []
    },
    {
      "cell_type": "code",
      "source": [
        "models_dict = {\n",
        "    'MobileNetV2': models.mobilenet_v2(weights='IMAGENET1K_V2'),\n",
        "    'MobileNetV3': models.mobilenet_v3_large(weights='IMAGENET1K_V2'),\n",
        "    'ShuffleNetV2': models.shufflenet_v2_x1_0(weights='IMAGENET1K_V1'),\n",
        "    'VisionTransformer': models.vit_b_16(weights='IMAGENET1K_V1')\n",
        "}"
      ],
      "metadata": {
        "id": "xtF2Gs-LKjtO",
        "colab": {
          "base_uri": "https://localhost:8080/"
        },
        "outputId": "34aa81f9-0db7-48ac-c42c-f0d4a4639528"
      },
      "execution_count": 8,
      "outputs": [
        {
          "output_type": "stream",
          "name": "stderr",
          "text": [
            "Downloading: \"https://download.pytorch.org/models/mobilenet_v2-7ebf99e0.pth\" to /root/.cache/torch/hub/checkpoints/mobilenet_v2-7ebf99e0.pth\n",
            "100%|██████████| 13.6M/13.6M [00:00<00:00, 38.9MB/s]\n",
            "Downloading: \"https://download.pytorch.org/models/mobilenet_v3_large-5c1a4163.pth\" to /root/.cache/torch/hub/checkpoints/mobilenet_v3_large-5c1a4163.pth\n",
            "100%|██████████| 21.1M/21.1M [00:00<00:00, 136MB/s] \n",
            "Downloading: \"https://download.pytorch.org/models/shufflenetv2_x1-5666bf0f80.pth\" to /root/.cache/torch/hub/checkpoints/shufflenetv2_x1-5666bf0f80.pth\n",
            "100%|██████████| 8.79M/8.79M [00:00<00:00, 81.7MB/s]\n",
            "Downloading: \"https://download.pytorch.org/models/vit_b_16-c867db91.pth\" to /root/.cache/torch/hub/checkpoints/vit_b_16-c867db91.pth\n",
            "100%|██████████| 330M/330M [00:01<00:00, 219MB/s]\n"
          ]
        }
      ]
    },
    {
      "cell_type": "code",
      "source": [
        "results = {}\n",
        "for model_name, model in tqdm(models_dict.items(), desc=\"Training Models\"):\n",
        "    print(f\"Training {model_name}\")\n",
        "    results[model_name] = train_and_evaluate(model_name, model, dataset, train_transform, val_transform)\n"
      ],
      "metadata": {
        "id": "vo5X0Nj9Klv6",
        "colab": {
          "base_uri": "https://localhost:8080/"
        },
        "outputId": "32b87520-5e3c-4a26-d9d9-71392cf608a9"
      },
      "execution_count": 9,
      "outputs": [
        {
          "output_type": "stream",
          "name": "stderr",
          "text": [
            "\rTraining Models:   0%|          | 0/4 [00:00<?, ?it/s]"
          ]
        },
        {
          "output_type": "stream",
          "name": "stdout",
          "text": [
            "Training MobileNetV2\n",
            "Fold 1/5 for MobileNetV2\n"
          ]
        },
        {
          "output_type": "stream",
          "name": "stderr",
          "text": [
            "\n",
            "Training MobileNetV2 Fold 1:   0%|          | 0/10 [00:00<?, ?it/s]\u001b[A\n",
            "Training MobileNetV2 Fold 1:  10%|█         | 1/10 [00:12<01:48, 12.03s/it]\u001b[A\n",
            "Training MobileNetV2 Fold 1:  20%|██        | 2/10 [00:22<01:26, 10.87s/it]\u001b[A\n",
            "Training MobileNetV2 Fold 1:  30%|███       | 3/10 [00:32<01:13, 10.49s/it]\u001b[A\n",
            "Training MobileNetV2 Fold 1:  40%|████      | 4/10 [00:42<01:01, 10.29s/it]\u001b[A\n",
            "Training MobileNetV2 Fold 1:  50%|█████     | 5/10 [00:52<00:50, 10.18s/it]\u001b[A\n",
            "Training MobileNetV2 Fold 1:  60%|██████    | 6/10 [01:02<00:40, 10.11s/it]\u001b[A\n",
            "Training MobileNetV2 Fold 1:  70%|███████   | 7/10 [01:11<00:30, 10.05s/it]\u001b[A\n",
            "Training MobileNetV2 Fold 1:  80%|████████  | 8/10 [01:21<00:20, 10.02s/it]\u001b[A\n",
            "Training MobileNetV2 Fold 1:  90%|█████████ | 9/10 [01:31<00:09, 10.00s/it]\u001b[A\n",
            "Training MobileNetV2 Fold 1: 100%|██████████| 10/10 [01:41<00:00, 10.18s/it]\n"
          ]
        },
        {
          "output_type": "stream",
          "name": "stdout",
          "text": [
            "Fold 2/5 for MobileNetV2\n"
          ]
        },
        {
          "output_type": "stream",
          "name": "stderr",
          "text": [
            "\n",
            "Training MobileNetV2 Fold 2:   0%|          | 0/10 [00:00<?, ?it/s]\u001b[A\n",
            "Training MobileNetV2 Fold 2:  10%|█         | 1/10 [00:10<01:31, 10.13s/it]\u001b[A\n",
            "Training MobileNetV2 Fold 2:  20%|██        | 2/10 [00:20<01:19, 10.00s/it]\u001b[A\n",
            "Training MobileNetV2 Fold 2:  30%|███       | 3/10 [00:29<01:09,  9.97s/it]\u001b[A\n",
            "Training MobileNetV2 Fold 2:  40%|████      | 4/10 [00:39<00:59,  9.97s/it]\u001b[A\n",
            "Training MobileNetV2 Fold 2:  50%|█████     | 5/10 [00:50<00:50, 10.00s/it]\u001b[A\n",
            "Training MobileNetV2 Fold 2:  60%|██████    | 6/10 [00:59<00:39,  9.97s/it]\u001b[A\n",
            "Training MobileNetV2 Fold 2:  70%|███████   | 7/10 [01:09<00:29,  9.97s/it]\u001b[A\n",
            "Training MobileNetV2 Fold 2:  80%|████████  | 8/10 [01:19<00:19,  9.95s/it]\u001b[A\n",
            "Training MobileNetV2 Fold 2:  90%|█████████ | 9/10 [01:29<00:09,  9.95s/it]\u001b[A\n",
            "Training MobileNetV2 Fold 2: 100%|██████████| 10/10 [01:39<00:00,  9.97s/it]\n"
          ]
        },
        {
          "output_type": "stream",
          "name": "stdout",
          "text": [
            "Fold 3/5 for MobileNetV2\n"
          ]
        },
        {
          "output_type": "stream",
          "name": "stderr",
          "text": [
            "\n",
            "Training MobileNetV2 Fold 3:   0%|          | 0/10 [00:00<?, ?it/s]\u001b[A\n",
            "Training MobileNetV2 Fold 3:  10%|█         | 1/10 [00:09<01:29, 10.00s/it]\u001b[A\n",
            "Training MobileNetV2 Fold 3:  20%|██        | 2/10 [00:19<01:19,  9.94s/it]\u001b[A\n",
            "Training MobileNetV2 Fold 3:  30%|███       | 3/10 [00:29<01:09,  9.94s/it]\u001b[A\n",
            "Training MobileNetV2 Fold 3:  40%|████      | 4/10 [00:39<00:59,  9.93s/it]\u001b[A\n",
            "Training MobileNetV2 Fold 3:  50%|█████     | 5/10 [00:49<00:49,  9.91s/it]\u001b[A\n",
            "Training MobileNetV2 Fold 3:  60%|██████    | 6/10 [00:59<00:39,  9.92s/it]\u001b[A\n",
            "Training MobileNetV2 Fold 3:  70%|███████   | 7/10 [01:09<00:29,  9.91s/it]\u001b[A\n",
            "Training MobileNetV2 Fold 3:  80%|████████  | 8/10 [01:19<00:19,  9.92s/it]\u001b[A\n",
            "Training MobileNetV2 Fold 3:  90%|█████████ | 9/10 [01:29<00:09,  9.95s/it]\u001b[A\n",
            "Training MobileNetV2 Fold 3: 100%|██████████| 10/10 [01:39<00:00,  9.94s/it]\n"
          ]
        },
        {
          "output_type": "stream",
          "name": "stdout",
          "text": [
            "Fold 4/5 for MobileNetV2\n"
          ]
        },
        {
          "output_type": "stream",
          "name": "stderr",
          "text": [
            "\n",
            "Training MobileNetV2 Fold 4:   0%|          | 0/10 [00:00<?, ?it/s]\u001b[A\n",
            "Training MobileNetV2 Fold 4:  10%|█         | 1/10 [00:10<01:30, 10.01s/it]\u001b[A\n",
            "Training MobileNetV2 Fold 4:  20%|██        | 2/10 [00:19<01:19,  9.95s/it]\u001b[A\n",
            "Training MobileNetV2 Fold 4:  30%|███       | 3/10 [00:29<01:09,  9.93s/it]\u001b[A\n",
            "Training MobileNetV2 Fold 4:  40%|████      | 4/10 [00:39<00:59,  9.92s/it]\u001b[A\n",
            "Training MobileNetV2 Fold 4:  50%|█████     | 5/10 [00:49<00:49,  9.93s/it]\u001b[A\n",
            "Training MobileNetV2 Fold 4:  60%|██████    | 6/10 [00:59<00:39,  9.96s/it]\u001b[A\n",
            "Training MobileNetV2 Fold 4:  70%|███████   | 7/10 [01:09<00:29,  9.95s/it]\u001b[A\n",
            "Training MobileNetV2 Fold 4:  80%|████████  | 8/10 [01:19<00:19,  9.94s/it]\u001b[A\n",
            "Training MobileNetV2 Fold 4:  90%|█████████ | 9/10 [01:29<00:09,  9.93s/it]\u001b[A\n",
            "Training MobileNetV2 Fold 4: 100%|██████████| 10/10 [01:39<00:00,  9.93s/it]\n"
          ]
        },
        {
          "output_type": "stream",
          "name": "stdout",
          "text": [
            "Fold 5/5 for MobileNetV2\n"
          ]
        },
        {
          "output_type": "stream",
          "name": "stderr",
          "text": [
            "\n",
            "Training MobileNetV2 Fold 5:   0%|          | 0/10 [00:00<?, ?it/s]\u001b[A\n",
            "Training MobileNetV2 Fold 5:  10%|█         | 1/10 [00:09<01:29,  9.97s/it]\u001b[A\n",
            "Training MobileNetV2 Fold 5:  20%|██        | 2/10 [00:19<01:19,  9.92s/it]\u001b[A\n",
            "Training MobileNetV2 Fold 5:  30%|███       | 3/10 [00:29<01:09,  9.94s/it]\u001b[A\n",
            "Training MobileNetV2 Fold 5:  40%|████      | 4/10 [00:39<00:59,  9.93s/it]\u001b[A\n",
            "Training MobileNetV2 Fold 5:  50%|█████     | 5/10 [00:49<00:49,  9.95s/it]\u001b[A\n",
            "Training MobileNetV2 Fold 5:  60%|██████    | 6/10 [00:59<00:39,  9.95s/it]\u001b[A\n",
            "Training MobileNetV2 Fold 5:  70%|███████   | 7/10 [01:09<00:29,  9.95s/it]\u001b[A\n",
            "Training MobileNetV2 Fold 5:  80%|████████  | 8/10 [01:19<00:19,  9.94s/it]\u001b[A\n",
            "Training MobileNetV2 Fold 5:  90%|█████████ | 9/10 [01:29<00:09,  9.94s/it]\u001b[A\n",
            "Training MobileNetV2 Fold 5: 100%|██████████| 10/10 [01:39<00:00,  9.94s/it]\n",
            "Training Models:  25%|██▌       | 1/4 [08:19<24:59, 499.84s/it]"
          ]
        },
        {
          "output_type": "stream",
          "name": "stdout",
          "text": [
            "Training MobileNetV3\n",
            "Fold 1/5 for MobileNetV3\n"
          ]
        },
        {
          "output_type": "stream",
          "name": "stderr",
          "text": [
            "\n",
            "Training MobileNetV3 Fold 1:   0%|          | 0/10 [00:00<?, ?it/s]\u001b[A\n",
            "Training MobileNetV3 Fold 1:  10%|█         | 1/10 [00:10<01:33, 10.38s/it]\u001b[A\n",
            "Training MobileNetV3 Fold 1:  20%|██        | 2/10 [00:20<01:21, 10.17s/it]\u001b[A\n",
            "Training MobileNetV3 Fold 1:  30%|███       | 3/10 [00:30<01:10, 10.08s/it]\u001b[A\n",
            "Training MobileNetV3 Fold 1:  40%|████      | 4/10 [00:40<01:00, 10.04s/it]\u001b[A\n",
            "Training MobileNetV3 Fold 1:  50%|█████     | 5/10 [00:50<00:50, 10.02s/it]\u001b[A\n",
            "Training MobileNetV3 Fold 1:  60%|██████    | 6/10 [01:00<00:40, 10.01s/it]\u001b[A\n",
            "Training MobileNetV3 Fold 1:  70%|███████   | 7/10 [01:10<00:29, 10.00s/it]\u001b[A\n",
            "Training MobileNetV3 Fold 1:  80%|████████  | 8/10 [01:20<00:19,  9.99s/it]\u001b[A\n",
            "Training MobileNetV3 Fold 1:  90%|█████████ | 9/10 [01:30<00:09,  9.99s/it]\u001b[A\n",
            "Training MobileNetV3 Fold 1: 100%|██████████| 10/10 [01:40<00:00, 10.02s/it]\n"
          ]
        },
        {
          "output_type": "stream",
          "name": "stdout",
          "text": [
            "Fold 2/5 for MobileNetV3\n"
          ]
        },
        {
          "output_type": "stream",
          "name": "stderr",
          "text": [
            "\n",
            "Training MobileNetV3 Fold 2:   0%|          | 0/10 [00:00<?, ?it/s]\u001b[A\n",
            "Training MobileNetV3 Fold 2:  10%|█         | 1/10 [00:10<01:31, 10.19s/it]\u001b[A\n",
            "Training MobileNetV3 Fold 2:  20%|██        | 2/10 [00:20<01:20, 10.08s/it]\u001b[A\n",
            "Training MobileNetV3 Fold 2:  30%|███       | 3/10 [00:30<01:10, 10.03s/it]\u001b[A\n",
            "Training MobileNetV3 Fold 2:  40%|████      | 4/10 [00:40<00:59, 10.00s/it]\u001b[A\n",
            "Training MobileNetV3 Fold 2:  50%|█████     | 5/10 [00:50<00:50, 10.01s/it]\u001b[A\n",
            "Training MobileNetV3 Fold 2:  60%|██████    | 6/10 [01:00<00:39,  9.98s/it]\u001b[A\n",
            "Training MobileNetV3 Fold 2:  70%|███████   | 7/10 [01:10<00:29,  9.96s/it]\u001b[A\n",
            "Training MobileNetV3 Fold 2:  80%|████████  | 8/10 [01:19<00:19,  9.96s/it]\u001b[A\n",
            "Training MobileNetV3 Fold 2:  90%|█████████ | 9/10 [01:29<00:09,  9.95s/it]\u001b[A\n",
            "Training MobileNetV3 Fold 2: 100%|██████████| 10/10 [01:39<00:00,  9.99s/it]\n"
          ]
        },
        {
          "output_type": "stream",
          "name": "stdout",
          "text": [
            "Fold 3/5 for MobileNetV3\n"
          ]
        },
        {
          "output_type": "stream",
          "name": "stderr",
          "text": [
            "\n",
            "Training MobileNetV3 Fold 3:   0%|          | 0/10 [00:00<?, ?it/s]\u001b[A\n",
            "Training MobileNetV3 Fold 3:  10%|█         | 1/10 [00:10<01:30, 10.07s/it]\u001b[A\n",
            "Training MobileNetV3 Fold 3:  20%|██        | 2/10 [00:20<01:20, 10.00s/it]\u001b[A\n",
            "Training MobileNetV3 Fold 3:  30%|███       | 3/10 [00:29<01:09,  9.98s/it]\u001b[A\n",
            "Training MobileNetV3 Fold 3:  40%|████      | 4/10 [00:39<00:59,  9.99s/it]\u001b[A\n",
            "Training MobileNetV3 Fold 3:  50%|█████     | 5/10 [00:49<00:49,  9.99s/it]\u001b[A\n",
            "Training MobileNetV3 Fold 3:  60%|██████    | 6/10 [00:59<00:39,  9.99s/it]\u001b[A\n",
            "Training MobileNetV3 Fold 3:  70%|███████   | 7/10 [01:09<00:29,  9.99s/it]\u001b[A\n",
            "Training MobileNetV3 Fold 3:  80%|████████  | 8/10 [01:19<00:19,  9.98s/it]\u001b[A\n",
            "Training MobileNetV3 Fold 3:  90%|█████████ | 9/10 [01:29<00:09,  9.96s/it]\u001b[A\n",
            "Training MobileNetV3 Fold 3: 100%|██████████| 10/10 [01:39<00:00,  9.98s/it]\n"
          ]
        },
        {
          "output_type": "stream",
          "name": "stdout",
          "text": [
            "Fold 4/5 for MobileNetV3\n"
          ]
        },
        {
          "output_type": "stream",
          "name": "stderr",
          "text": [
            "\n",
            "Training MobileNetV3 Fold 4:   0%|          | 0/10 [00:00<?, ?it/s]\u001b[A\n",
            "Training MobileNetV3 Fold 4:  10%|█         | 1/10 [00:10<01:30, 10.01s/it]\u001b[A\n",
            "Training MobileNetV3 Fold 4:  20%|██        | 2/10 [00:20<01:20, 10.01s/it]\u001b[A\n",
            "Training MobileNetV3 Fold 4:  30%|███       | 3/10 [00:30<01:10, 10.00s/it]\u001b[A\n",
            "Training MobileNetV3 Fold 4:  40%|████      | 4/10 [00:40<00:59, 10.00s/it]\u001b[A\n",
            "Training MobileNetV3 Fold 4:  50%|█████     | 5/10 [00:49<00:49,  9.99s/it]\u001b[A\n",
            "Training MobileNetV3 Fold 4:  60%|██████    | 6/10 [01:00<00:40, 10.04s/it]\u001b[A\n",
            "Training MobileNetV3 Fold 4:  70%|███████   | 7/10 [01:10<00:30, 10.04s/it]\u001b[A\n",
            "Training MobileNetV3 Fold 4:  80%|████████  | 8/10 [01:20<00:20, 10.05s/it]\u001b[A\n",
            "Training MobileNetV3 Fold 4:  90%|█████████ | 9/10 [01:30<00:10, 10.06s/it]\u001b[A\n",
            "Training MobileNetV3 Fold 4: 100%|██████████| 10/10 [01:40<00:00, 10.04s/it]\n"
          ]
        },
        {
          "output_type": "stream",
          "name": "stdout",
          "text": [
            "Fold 5/5 for MobileNetV3\n"
          ]
        },
        {
          "output_type": "stream",
          "name": "stderr",
          "text": [
            "\n",
            "Training MobileNetV3 Fold 5:   0%|          | 0/10 [00:00<?, ?it/s]\u001b[A\n",
            "Training MobileNetV3 Fold 5:  10%|█         | 1/10 [00:10<01:30, 10.02s/it]\u001b[A\n",
            "Training MobileNetV3 Fold 5:  20%|██        | 2/10 [00:19<01:19,  9.98s/it]\u001b[A\n",
            "Training MobileNetV3 Fold 5:  30%|███       | 3/10 [00:30<01:10, 10.01s/it]\u001b[A\n",
            "Training MobileNetV3 Fold 5:  40%|████      | 4/10 [00:40<01:00, 10.01s/it]\u001b[A\n",
            "Training MobileNetV3 Fold 5:  50%|█████     | 5/10 [00:49<00:49, 10.00s/it]\u001b[A\n",
            "Training MobileNetV3 Fold 5:  60%|██████    | 6/10 [00:59<00:39,  9.98s/it]\u001b[A\n",
            "Training MobileNetV3 Fold 5:  70%|███████   | 7/10 [01:09<00:29,  9.96s/it]\u001b[A\n",
            "Training MobileNetV3 Fold 5:  80%|████████  | 8/10 [01:19<00:19,  9.99s/it]\u001b[A\n",
            "Training MobileNetV3 Fold 5:  90%|█████████ | 9/10 [01:29<00:09,  9.97s/it]\u001b[A\n",
            "Training MobileNetV3 Fold 5: 100%|██████████| 10/10 [01:39<00:00,  9.98s/it]\n",
            "Training Models:  50%|█████     | 2/4 [16:40<16:40, 500.05s/it]"
          ]
        },
        {
          "output_type": "stream",
          "name": "stdout",
          "text": [
            "Training ShuffleNetV2\n",
            "Fold 1/5 for ShuffleNetV2\n"
          ]
        },
        {
          "output_type": "stream",
          "name": "stderr",
          "text": [
            "\n",
            "Training ShuffleNetV2 Fold 1:   0%|          | 0/10 [00:00<?, ?it/s]\u001b[A\n",
            "Training ShuffleNetV2 Fold 1:  10%|█         | 1/10 [00:10<01:30, 10.11s/it]\u001b[A\n",
            "Training ShuffleNetV2 Fold 1:  20%|██        | 2/10 [00:20<01:19,  9.99s/it]\u001b[A\n",
            "Training ShuffleNetV2 Fold 1:  30%|███       | 3/10 [00:29<01:09,  9.95s/it]\u001b[A\n",
            "Training ShuffleNetV2 Fold 1:  40%|████      | 4/10 [00:39<00:59,  9.93s/it]\u001b[A\n",
            "Training ShuffleNetV2 Fold 1:  50%|█████     | 5/10 [00:49<00:49,  9.94s/it]\u001b[A\n",
            "Training ShuffleNetV2 Fold 1:  60%|██████    | 6/10 [00:59<00:39,  9.95s/it]\u001b[A\n",
            "Training ShuffleNetV2 Fold 1:  70%|███████   | 7/10 [01:09<00:29,  9.97s/it]\u001b[A\n",
            "Training ShuffleNetV2 Fold 1:  80%|████████  | 8/10 [01:19<00:19,  9.97s/it]\u001b[A\n",
            "Training ShuffleNetV2 Fold 1:  90%|█████████ | 9/10 [01:29<00:09,  9.95s/it]\u001b[A\n",
            "Training ShuffleNetV2 Fold 1: 100%|██████████| 10/10 [01:39<00:00,  9.95s/it]\n"
          ]
        },
        {
          "output_type": "stream",
          "name": "stdout",
          "text": [
            "Fold 2/5 for ShuffleNetV2\n"
          ]
        },
        {
          "output_type": "stream",
          "name": "stderr",
          "text": [
            "\n",
            "Training ShuffleNetV2 Fold 2:   0%|          | 0/10 [00:00<?, ?it/s]\u001b[A\n",
            "Training ShuffleNetV2 Fold 2:  10%|█         | 1/10 [00:10<01:30, 10.01s/it]\u001b[A\n",
            "Training ShuffleNetV2 Fold 2:  20%|██        | 2/10 [00:19<01:19,  9.93s/it]\u001b[A\n",
            "Training ShuffleNetV2 Fold 2:  30%|███       | 3/10 [00:29<01:09,  9.90s/it]\u001b[A\n",
            "Training ShuffleNetV2 Fold 2:  40%|████      | 4/10 [00:39<00:59,  9.90s/it]\u001b[A\n",
            "Training ShuffleNetV2 Fold 2:  50%|█████     | 5/10 [00:49<00:49,  9.93s/it]\u001b[A\n",
            "Training ShuffleNetV2 Fold 2:  60%|██████    | 6/10 [00:59<00:39,  9.91s/it]\u001b[A\n",
            "Training ShuffleNetV2 Fold 2:  70%|███████   | 7/10 [01:09<00:29,  9.89s/it]\u001b[A\n",
            "Training ShuffleNetV2 Fold 2:  80%|████████  | 8/10 [01:19<00:19,  9.87s/it]\u001b[A\n",
            "Training ShuffleNetV2 Fold 2:  90%|█████████ | 9/10 [01:29<00:09,  9.86s/it]\u001b[A\n",
            "Training ShuffleNetV2 Fold 2: 100%|██████████| 10/10 [01:38<00:00,  9.89s/it]\n"
          ]
        },
        {
          "output_type": "stream",
          "name": "stdout",
          "text": [
            "Fold 3/5 for ShuffleNetV2\n"
          ]
        },
        {
          "output_type": "stream",
          "name": "stderr",
          "text": [
            "\n",
            "Training ShuffleNetV2 Fold 3:   0%|          | 0/10 [00:00<?, ?it/s]\u001b[A\n",
            "Training ShuffleNetV2 Fold 3:  10%|█         | 1/10 [00:09<01:29,  9.92s/it]\u001b[A\n",
            "Training ShuffleNetV2 Fold 3:  20%|██        | 2/10 [00:19<01:19,  9.91s/it]\u001b[A\n",
            "Training ShuffleNetV2 Fold 3:  30%|███       | 3/10 [00:29<01:09,  9.90s/it]\u001b[A\n",
            "Training ShuffleNetV2 Fold 3:  40%|████      | 4/10 [00:39<00:59,  9.88s/it]\u001b[A\n",
            "Training ShuffleNetV2 Fold 3:  50%|█████     | 5/10 [00:49<00:49,  9.87s/it]\u001b[A\n",
            "Training ShuffleNetV2 Fold 3:  60%|██████    | 6/10 [00:59<00:39,  9.87s/it]\u001b[A\n",
            "Training ShuffleNetV2 Fold 3:  70%|███████   | 7/10 [01:09<00:29,  9.87s/it]\u001b[A\n",
            "Training ShuffleNetV2 Fold 3:  80%|████████  | 8/10 [01:19<00:19,  9.88s/it]\u001b[A\n",
            "Training ShuffleNetV2 Fold 3:  90%|█████████ | 9/10 [01:28<00:09,  9.89s/it]\u001b[A\n",
            "Training ShuffleNetV2 Fold 3: 100%|██████████| 10/10 [01:38<00:00,  9.88s/it]\n"
          ]
        },
        {
          "output_type": "stream",
          "name": "stdout",
          "text": [
            "Fold 4/5 for ShuffleNetV2\n"
          ]
        },
        {
          "output_type": "stream",
          "name": "stderr",
          "text": [
            "\n",
            "Training ShuffleNetV2 Fold 4:   0%|          | 0/10 [00:00<?, ?it/s]\u001b[A\n",
            "Training ShuffleNetV2 Fold 4:  10%|█         | 1/10 [00:09<01:29,  9.92s/it]\u001b[A\n",
            "Training ShuffleNetV2 Fold 4:  20%|██        | 2/10 [00:19<01:19,  9.90s/it]\u001b[A\n",
            "Training ShuffleNetV2 Fold 4:  30%|███       | 3/10 [00:29<01:09,  9.90s/it]\u001b[A\n",
            "Training ShuffleNetV2 Fold 4:  40%|████      | 4/10 [00:39<00:59,  9.89s/it]\u001b[A\n",
            "Training ShuffleNetV2 Fold 4:  50%|█████     | 5/10 [00:49<00:49,  9.88s/it]\u001b[A\n",
            "Training ShuffleNetV2 Fold 4:  60%|██████    | 6/10 [00:59<00:39,  9.86s/it]\u001b[A\n",
            "Training ShuffleNetV2 Fold 4:  70%|███████   | 7/10 [01:09<00:29,  9.90s/it]\u001b[A\n",
            "Training ShuffleNetV2 Fold 4:  80%|████████  | 8/10 [01:19<00:19,  9.87s/it]\u001b[A\n",
            "Training ShuffleNetV2 Fold 4:  90%|█████████ | 9/10 [01:28<00:09,  9.87s/it]\u001b[A\n",
            "Training ShuffleNetV2 Fold 4: 100%|██████████| 10/10 [01:38<00:00,  9.88s/it]\n"
          ]
        },
        {
          "output_type": "stream",
          "name": "stdout",
          "text": [
            "Fold 5/5 for ShuffleNetV2\n"
          ]
        },
        {
          "output_type": "stream",
          "name": "stderr",
          "text": [
            "\n",
            "Training ShuffleNetV2 Fold 5:   0%|          | 0/10 [00:00<?, ?it/s]\u001b[A\n",
            "Training ShuffleNetV2 Fold 5:  10%|█         | 1/10 [00:09<01:28,  9.86s/it]\u001b[A\n",
            "Training ShuffleNetV2 Fold 5:  20%|██        | 2/10 [00:19<01:18,  9.86s/it]\u001b[A\n",
            "Training ShuffleNetV2 Fold 5:  30%|███       | 3/10 [00:29<01:09,  9.88s/it]\u001b[A\n",
            "Training ShuffleNetV2 Fold 5:  40%|████      | 4/10 [00:39<00:59,  9.86s/it]\u001b[A\n",
            "Training ShuffleNetV2 Fold 5:  50%|█████     | 5/10 [00:49<00:49,  9.85s/it]\u001b[A\n",
            "Training ShuffleNetV2 Fold 5:  60%|██████    | 6/10 [00:59<00:39,  9.84s/it]\u001b[A\n",
            "Training ShuffleNetV2 Fold 5:  70%|███████   | 7/10 [01:08<00:29,  9.84s/it]\u001b[A\n",
            "Training ShuffleNetV2 Fold 5:  80%|████████  | 8/10 [01:18<00:19,  9.86s/it]\u001b[A\n",
            "Training ShuffleNetV2 Fold 5:  90%|█████████ | 9/10 [01:28<00:09,  9.89s/it]\u001b[A\n",
            "Training ShuffleNetV2 Fold 5: 100%|██████████| 10/10 [01:38<00:00,  9.87s/it]\n",
            "Training Models:  75%|███████▌  | 3/4 [24:54<08:17, 497.64s/it]"
          ]
        },
        {
          "output_type": "stream",
          "name": "stdout",
          "text": [
            "Training VisionTransformer\n",
            "Fold 1/5 for VisionTransformer\n"
          ]
        },
        {
          "output_type": "stream",
          "name": "stderr",
          "text": [
            "\n",
            "Training VisionTransformer Fold 1:   0%|          | 0/10 [00:00<?, ?it/s]\u001b[A\n",
            "Training VisionTransformer Fold 1:  10%|█         | 1/10 [00:11<01:45, 11.67s/it]\u001b[A\n",
            "Training VisionTransformer Fold 1:  20%|██        | 2/10 [00:22<01:30, 11.35s/it]\u001b[A\n",
            "Training VisionTransformer Fold 1:  30%|███       | 3/10 [00:34<01:21, 11.61s/it]\u001b[A\n",
            "Training VisionTransformer Fold 1:  40%|████      | 4/10 [00:45<01:08, 11.44s/it]\u001b[A\n",
            "Training VisionTransformer Fold 1:  50%|█████     | 5/10 [00:57<00:56, 11.34s/it]\u001b[A\n",
            "Training VisionTransformer Fold 1:  60%|██████    | 6/10 [01:08<00:45, 11.28s/it]\u001b[A\n",
            "Training VisionTransformer Fold 1:  70%|███████   | 7/10 [01:19<00:33, 11.23s/it]\u001b[A\n",
            "Training VisionTransformer Fold 1:  80%|████████  | 8/10 [01:31<00:22, 11.44s/it]\u001b[A\n",
            "Training VisionTransformer Fold 1:  90%|█████████ | 9/10 [01:42<00:11, 11.35s/it]\u001b[A\n",
            "Training VisionTransformer Fold 1: 100%|██████████| 10/10 [01:53<00:00, 11.36s/it]\n"
          ]
        },
        {
          "output_type": "stream",
          "name": "stdout",
          "text": [
            "Fold 2/5 for VisionTransformer\n"
          ]
        },
        {
          "output_type": "stream",
          "name": "stderr",
          "text": [
            "\n",
            "Training VisionTransformer Fold 2:   0%|          | 0/10 [00:00<?, ?it/s]\u001b[A\n",
            "Training VisionTransformer Fold 2:  10%|█         | 1/10 [00:11<01:44, 11.61s/it]\u001b[A\n",
            "Training VisionTransformer Fold 2:  20%|██        | 2/10 [00:22<01:30, 11.36s/it]\u001b[A\n",
            "Training VisionTransformer Fold 2:  30%|███       | 3/10 [00:33<01:18, 11.28s/it]\u001b[A\n",
            "Training VisionTransformer Fold 2:  40%|████      | 4/10 [00:45<01:07, 11.24s/it]\u001b[A\n",
            "Training VisionTransformer Fold 2:  50%|█████     | 5/10 [00:56<00:56, 11.21s/it]\u001b[A\n",
            "Training VisionTransformer Fold 2:  60%|██████    | 6/10 [01:07<00:44, 11.20s/it]\u001b[A\n",
            "Training VisionTransformer Fold 2:  70%|███████   | 7/10 [01:18<00:33, 11.18s/it]\u001b[A\n",
            "Training VisionTransformer Fold 2:  80%|████████  | 8/10 [01:29<00:22, 11.21s/it]\u001b[A\n",
            "Training VisionTransformer Fold 2:  90%|█████████ | 9/10 [01:41<00:11, 11.19s/it]\u001b[A\n",
            "Training VisionTransformer Fold 2: 100%|██████████| 10/10 [01:52<00:00, 11.22s/it]\n"
          ]
        },
        {
          "output_type": "stream",
          "name": "stdout",
          "text": [
            "Fold 3/5 for VisionTransformer\n"
          ]
        },
        {
          "output_type": "stream",
          "name": "stderr",
          "text": [
            "\n",
            "Training VisionTransformer Fold 3:   0%|          | 0/10 [00:00<?, ?it/s]\u001b[A\n",
            "Training VisionTransformer Fold 3:  10%|█         | 1/10 [00:11<01:44, 11.63s/it]\u001b[A\n",
            "Training VisionTransformer Fold 3:  20%|██        | 2/10 [00:23<01:34, 11.81s/it]\u001b[A\n",
            "Training VisionTransformer Fold 3:  30%|███       | 3/10 [00:34<01:20, 11.52s/it]\u001b[A\n",
            "Training VisionTransformer Fold 3:  40%|████      | 4/10 [00:45<01:08, 11.38s/it]\u001b[A\n",
            "Training VisionTransformer Fold 3:  50%|█████     | 5/10 [00:57<00:56, 11.32s/it]\u001b[A\n",
            "Training VisionTransformer Fold 3:  60%|██████    | 6/10 [01:08<00:45, 11.29s/it]\u001b[A\n",
            "Training VisionTransformer Fold 3:  70%|███████   | 7/10 [01:19<00:33, 11.25s/it]\u001b[A\n",
            "Training VisionTransformer Fold 3:  80%|████████  | 8/10 [01:31<00:22, 11.47s/it]\u001b[A\n",
            "Training VisionTransformer Fold 3:  90%|█████████ | 9/10 [01:42<00:11, 11.38s/it]\u001b[A\n",
            "Training VisionTransformer Fold 3: 100%|██████████| 10/10 [01:53<00:00, 11.38s/it]\n"
          ]
        },
        {
          "output_type": "stream",
          "name": "stdout",
          "text": [
            "Fold 4/5 for VisionTransformer\n"
          ]
        },
        {
          "output_type": "stream",
          "name": "stderr",
          "text": [
            "\n",
            "Training VisionTransformer Fold 4:   0%|          | 0/10 [00:00<?, ?it/s]\u001b[A\n",
            "Training VisionTransformer Fold 4:  10%|█         | 1/10 [00:11<01:44, 11.61s/it]\u001b[A\n",
            "Training VisionTransformer Fold 4:  20%|██        | 2/10 [00:23<01:34, 11.86s/it]\u001b[A\n",
            "Training VisionTransformer Fold 4:  30%|███       | 3/10 [00:34<01:20, 11.55s/it]\u001b[A\n",
            "Training VisionTransformer Fold 4:  40%|████      | 4/10 [00:46<01:10, 11.71s/it]\u001b[A\n",
            "Training VisionTransformer Fold 4:  50%|█████     | 5/10 [00:58<00:58, 11.79s/it]\u001b[A\n",
            "Training VisionTransformer Fold 4:  60%|██████    | 6/10 [01:10<00:47, 11.84s/it]\u001b[A\n",
            "Training VisionTransformer Fold 4:  70%|███████   | 7/10 [01:21<00:34, 11.63s/it]\u001b[A\n",
            "Training VisionTransformer Fold 4:  80%|████████  | 8/10 [01:32<00:22, 11.47s/it]\u001b[A\n",
            "Training VisionTransformer Fold 4:  90%|█████████ | 9/10 [01:44<00:11, 11.37s/it]\u001b[A\n",
            "Training VisionTransformer Fold 4: 100%|██████████| 10/10 [01:55<00:00, 11.53s/it]\n"
          ]
        },
        {
          "output_type": "stream",
          "name": "stdout",
          "text": [
            "Fold 5/5 for VisionTransformer\n"
          ]
        },
        {
          "output_type": "stream",
          "name": "stderr",
          "text": [
            "\n",
            "Training VisionTransformer Fold 5:   0%|          | 0/10 [00:00<?, ?it/s]\u001b[A\n",
            "Training VisionTransformer Fold 5:  10%|█         | 1/10 [00:11<01:44, 11.63s/it]\u001b[A\n",
            "Training VisionTransformer Fold 5:  20%|██        | 2/10 [00:22<01:30, 11.37s/it]\u001b[A\n",
            "Training VisionTransformer Fold 5:  30%|███       | 3/10 [00:33<01:18, 11.27s/it]\u001b[A\n",
            "Training VisionTransformer Fold 5:  40%|████      | 4/10 [00:45<01:07, 11.24s/it]\u001b[A\n",
            "Training VisionTransformer Fold 5:  50%|█████     | 5/10 [00:56<00:56, 11.23s/it]\u001b[A\n",
            "Training VisionTransformer Fold 5:  60%|██████    | 6/10 [01:07<00:44, 11.22s/it]\u001b[A\n",
            "Training VisionTransformer Fold 5:  70%|███████   | 7/10 [01:18<00:33, 11.23s/it]\u001b[A\n",
            "Training VisionTransformer Fold 5:  80%|████████  | 8/10 [01:30<00:22, 11.22s/it]\u001b[A\n",
            "Training VisionTransformer Fold 5:  90%|█████████ | 9/10 [01:41<00:11, 11.20s/it]\u001b[A\n",
            "Training VisionTransformer Fold 5: 100%|██████████| 10/10 [01:52<00:00, 11.24s/it]\n",
            "Training Models: 100%|██████████| 4/4 [34:22<00:00, 515.66s/it]\n"
          ]
        }
      ]
    },
    {
      "cell_type": "code",
      "source": [
        "plt.figure()\n",
        "for model_name, (train_losses, test_losses, train_accs, test_accs, fprs, tprs, roc_aucs) in results.items():\n",
        "    plt.plot(test_losses, label=model_name)\n",
        "plt.legend()\n",
        "plt.title(\"Loss\")\n",
        "plt.show()"
      ],
      "metadata": {
        "colab": {
          "base_uri": "https://localhost:8080/",
          "height": 452
        },
        "id": "vvPgaNMMOuCB",
        "outputId": "ec29c572-f765-4b68-dc83-932a4f8c49cf"
      },
      "execution_count": 10,
      "outputs": [
        {
          "output_type": "display_data",
          "data": {
            "text/plain": [
              "<Figure size 640x480 with 1 Axes>"
            ],
            "image/png": "[encoded data removed]"
          },
          "metadata": {}
        }
      ]
    },
    {
      "cell_type": "code",
      "source": [
        "plt.figure()\n",
        "for model_name, (train_losses, test_losses, train_accs, test_accs, fprs, tprs, roc_aucs) in results.items():\n",
        "    plt.plot(test_accs, label=model_name)\n",
        "plt.legend()\n",
        "plt.title(\"Accuracy\")\n",
        "plt.show()\n"
      ],
      "metadata": {
        "id": "30BF81eBKn1k",
        "colab": {
          "base_uri": "https://localhost:8080/",
          "height": 452
        },
        "outputId": "dc3dd0f8-9370-42bd-ea5c-151f10513e6a"
      },
      "execution_count": 11,
      "outputs": [
        {
          "output_type": "display_data",
          "data": {
            "text/plain": [
              "<Figure size 640x480 with 1 Axes>"
            ],
            "image/png": "[encoded data removed]"
          },
          "metadata": {}
        }
      ]
    },
    {
      "cell_type": "code",
      "source": [
        "plt.figure()\n",
        "for model_name, (train_losses, test_losses, train_accs, test_accs, fprs, tprs, roc_aucs) in results.items():\n",
        "    plt.plot(fprs[-1], tprs[-1], label=f\"{model_name} (AUC={roc_aucs[-1]:.2f})\")\n",
        "plt.legend()\n",
        "plt.title(\"ROC Curve\")\n",
        "plt.xlabel(\"False Positive Rate\")\n",
        "plt.ylabel(\"True Positive Rate\")\n",
        "plt.show()\n"
      ],
      "metadata": {
        "colab": {
          "base_uri": "https://localhost:8080/",
          "height": 472
        },
        "id": "lsNz_4u-Ow80",
        "outputId": "993f4dc0-b6fb-4254-a280-2a10ee2c9277"
      },
      "execution_count": 12,
      "outputs": [
        {
          "output_type": "display_data",
          "data": {
            "text/plain": [
              "<Figure size 640x480 with 1 Axes>"
            ],
            "image/png": "[encoded data removed]"
          },
          "metadata": {}
        }
      ]
    }
  ]
}